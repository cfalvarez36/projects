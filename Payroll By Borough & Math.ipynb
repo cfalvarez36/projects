{
 "cells": [
  {
   "cell_type": "code",
   "execution_count": 1,
   "metadata": {},
   "outputs": [],
   "source": [
    "import numpy as np\n",
    "import pandas as pd\n",
    "import plotly.graph_objects as go\n",
    "from ipywidgets import widgets\n",
    "import plotly.io as pio"
   ]
  },
  {
   "cell_type": "code",
   "execution_count": 2,
   "metadata": {},
   "outputs": [
    {
     "name": "stderr",
     "output_type": "stream",
     "text": [
      "/Users/carlos/opt/anaconda3/lib/python3.7/site-packages/IPython/core/interactiveshell.py:3058: DtypeWarning:\n",
      "\n",
      "Columns (7,10,12,13,14,15,16) have mixed types. Specify dtype option on import or set low_memory=False.\n",
      "\n"
     ]
    }
   ],
   "source": [
    "payroll = pd.read_csv('/Users/Carlos/Desktop/Project_Files/Citywide_Payroll_Data__Fiscal_Year_.csv')"
   ]
  },
  {
   "cell_type": "code",
   "execution_count": 3,
   "metadata": {},
   "outputs": [
    {
     "name": "stderr",
     "output_type": "stream",
     "text": [
      "/Users/carlos/opt/anaconda3/lib/python3.7/site-packages/ipykernel_launcher.py:2: SettingWithCopyWarning:\n",
      "\n",
      "\n",
      "A value is trying to be set on a copy of a slice from a DataFrame.\n",
      "Try using .loc[row_indexer,col_indexer] = value instead\n",
      "\n",
      "See the caveats in the documentation: http://pandas.pydata.org/pandas-docs/stable/user_guide/indexing.html#returning-a-view-versus-a-copy\n",
      "\n"
     ]
    }
   ],
   "source": [
    "pay = payroll.iloc[:500000, :]\n",
    "pay['Base Salary'] = pay['Base Salary'].replace(('\\,', '\\.(.*)'), '', regex = True).astype(np.int64)\n",
    "pay = pay.where(pay['Pay Basis'] == 'per Annum').dropna(how = 'all', axis = 0)"
   ]
  },
  {
   "cell_type": "code",
   "execution_count": 4,
   "metadata": {},
   "outputs": [
    {
     "data": {
      "text/html": [
       "<div>\n",
       "<style scoped>\n",
       "    .dataframe tbody tr th:only-of-type {\n",
       "        vertical-align: middle;\n",
       "    }\n",
       "\n",
       "    .dataframe tbody tr th {\n",
       "        vertical-align: top;\n",
       "    }\n",
       "\n",
       "    .dataframe thead th {\n",
       "        text-align: right;\n",
       "    }\n",
       "</style>\n",
       "<table border=\"1\" class=\"dataframe\">\n",
       "  <thead>\n",
       "    <tr style=\"text-align: right;\">\n",
       "      <th></th>\n",
       "      <th>Title Description</th>\n",
       "      <th>Mean</th>\n",
       "      <th>Median</th>\n",
       "      <th>Minimum Salary</th>\n",
       "      <th>Maximum Salary</th>\n",
       "      <th>Count</th>\n",
       "    </tr>\n",
       "  </thead>\n",
       "  <tbody>\n",
       "    <tr>\n",
       "      <td>0</td>\n",
       "      <td>* ATTENDING DENTIST</td>\n",
       "      <td>144040.0000</td>\n",
       "      <td>144040.0</td>\n",
       "      <td>144040.0</td>\n",
       "      <td>144040.0</td>\n",
       "      <td>1</td>\n",
       "    </tr>\n",
       "    <tr>\n",
       "      <td>1</td>\n",
       "      <td>*ADM DIR FLEET MAINTENANCE - NM</td>\n",
       "      <td>129039.0000</td>\n",
       "      <td>129039.0</td>\n",
       "      <td>129039.0</td>\n",
       "      <td>129039.0</td>\n",
       "      <td>1</td>\n",
       "    </tr>\n",
       "    <tr>\n",
       "      <td>2</td>\n",
       "      <td>*ADMIN SCHL SECUR MGR-MGL</td>\n",
       "      <td>143850.0000</td>\n",
       "      <td>143850.0</td>\n",
       "      <td>143850.0</td>\n",
       "      <td>143850.0</td>\n",
       "      <td>1</td>\n",
       "    </tr>\n",
       "    <tr>\n",
       "      <td>3</td>\n",
       "      <td>*ADMINISTRATIVE ATTORNEY</td>\n",
       "      <td>189233.0000</td>\n",
       "      <td>189233.0</td>\n",
       "      <td>172096.0</td>\n",
       "      <td>206370.0</td>\n",
       "      <td>2</td>\n",
       "    </tr>\n",
       "    <tr>\n",
       "      <td>4</td>\n",
       "      <td>*ASIST SYSTMS ANALYST</td>\n",
       "      <td>61546.0000</td>\n",
       "      <td>61546.0</td>\n",
       "      <td>56775.0</td>\n",
       "      <td>66317.0</td>\n",
       "      <td>2</td>\n",
       "    </tr>\n",
       "    <tr>\n",
       "      <td>...</td>\n",
       "      <td>...</td>\n",
       "      <td>...</td>\n",
       "      <td>...</td>\n",
       "      <td>...</td>\n",
       "      <td>...</td>\n",
       "      <td>...</td>\n",
       "    </tr>\n",
       "    <tr>\n",
       "      <td>1033</td>\n",
       "      <td>WATERSHED MAINTAINER</td>\n",
       "      <td>49844.0625</td>\n",
       "      <td>54243.0</td>\n",
       "      <td>35646.0</td>\n",
       "      <td>54742.0</td>\n",
       "      <td>256</td>\n",
       "    </tr>\n",
       "    <tr>\n",
       "      <td>1034</td>\n",
       "      <td>WIPER</td>\n",
       "      <td>85408.7500</td>\n",
       "      <td>85825.0</td>\n",
       "      <td>82495.0</td>\n",
       "      <td>85825.0</td>\n",
       "      <td>16</td>\n",
       "    </tr>\n",
       "    <tr>\n",
       "      <td>1035</td>\n",
       "      <td>WORKER'S COMPENSATION BENEFITS EXAMINER</td>\n",
       "      <td>46656.0000</td>\n",
       "      <td>46656.0</td>\n",
       "      <td>46656.0</td>\n",
       "      <td>46656.0</td>\n",
       "      <td>1</td>\n",
       "    </tr>\n",
       "    <tr>\n",
       "      <td>1036</td>\n",
       "      <td>X-RAY TECHNICIAN</td>\n",
       "      <td>55397.0000</td>\n",
       "      <td>53896.5</td>\n",
       "      <td>51566.0</td>\n",
       "      <td>62795.0</td>\n",
       "      <td>10</td>\n",
       "    </tr>\n",
       "    <tr>\n",
       "      <td>1037</td>\n",
       "      <td>YOUTH COORDINATOR</td>\n",
       "      <td>56186.0000</td>\n",
       "      <td>57000.0</td>\n",
       "      <td>50000.0</td>\n",
       "      <td>58991.0</td>\n",
       "      <td>13</td>\n",
       "    </tr>\n",
       "  </tbody>\n",
       "</table>\n",
       "<p>1038 rows × 6 columns</p>\n",
       "</div>"
      ],
      "text/plain": [
       "                            Title Description         Mean    Median  \\\n",
       "0                         * ATTENDING DENTIST  144040.0000  144040.0   \n",
       "1             *ADM DIR FLEET MAINTENANCE - NM  129039.0000  129039.0   \n",
       "2                   *ADMIN SCHL SECUR MGR-MGL  143850.0000  143850.0   \n",
       "3                    *ADMINISTRATIVE ATTORNEY  189233.0000  189233.0   \n",
       "4                       *ASIST SYSTMS ANALYST   61546.0000   61546.0   \n",
       "...                                       ...          ...       ...   \n",
       "1033                     WATERSHED MAINTAINER   49844.0625   54243.0   \n",
       "1034                                    WIPER   85408.7500   85825.0   \n",
       "1035  WORKER'S COMPENSATION BENEFITS EXAMINER   46656.0000   46656.0   \n",
       "1036                         X-RAY TECHNICIAN   55397.0000   53896.5   \n",
       "1037                        YOUTH COORDINATOR   56186.0000   57000.0   \n",
       "\n",
       "      Minimum Salary  Maximum Salary  Count  \n",
       "0           144040.0        144040.0      1  \n",
       "1           129039.0        129039.0      1  \n",
       "2           143850.0        143850.0      1  \n",
       "3           172096.0        206370.0      2  \n",
       "4            56775.0         66317.0      2  \n",
       "...              ...             ...    ...  \n",
       "1033         35646.0         54742.0    256  \n",
       "1034         82495.0         85825.0     16  \n",
       "1035         46656.0         46656.0      1  \n",
       "1036         51566.0         62795.0     10  \n",
       "1037         50000.0         58991.0     13  \n",
       "\n",
       "[1038 rows x 6 columns]"
      ]
     },
     "execution_count": 4,
     "metadata": {},
     "output_type": "execute_result"
    }
   ],
   "source": [
    "mean = pay.groupby('Title Description')['Base Salary'].mean()\n",
    "median = pay.groupby('Title Description')['Base Salary'].median()\n",
    "minsalary = pay.groupby('Title Description')['Base Salary'].min()\n",
    "maxsalary = pay.groupby('Title Description')['Base Salary'].max()\n",
    "count = pay.groupby('Title Description')['Base Salary'].count()\n",
    "frame = pd.DataFrame({'Mean' : mean, 'Median' : median, 'Minimum Salary' : minsalary, 'Maximum Salary' : maxsalary, 'Count' : count})\n",
    "frame.reset_index(level= 'Title Description', inplace = True)\n",
    "pd.DataFrame(frame)"
   ]
  },
  {
   "cell_type": "code",
   "execution_count": 5,
   "metadata": {},
   "outputs": [],
   "source": [
    "#Similar dataframe using .describe(), won't be used, just showing an alternative.\n",
    "payer = pay.groupby('Title Description')['Base Salary'].apply(lambda x: pd.Series(x.values)).unstack().T\n",
    "payer = payer.describe().T\n",
    "payer.reset_index(level= 'Title Description', inplace = True)"
   ]
  },
  {
   "cell_type": "code",
   "execution_count": 6,
   "metadata": {},
   "outputs": [],
   "source": [
    "paymath = pay.merge(frame, how = 'left')"
   ]
  },
  {
   "cell_type": "code",
   "execution_count": 7,
   "metadata": {},
   "outputs": [],
   "source": [
    "fig = go.Figure()"
   ]
  },
  {
   "cell_type": "markdown",
   "metadata": {},
   "source": [
    "# The code below is used to create the interactive visual, but the transition from Jupyter Notebook to GitHub removes the interactive elements. Please refer to the README.md file for more information."
   ]
  },
  {
   "cell_type": "code",
   "execution_count": 8,
   "metadata": {
    "scrolled": false
   },
   "outputs": [
    {
     "data": {
      "application/vnd.jupyter.widget-view+json": {
       "model_id": "c15ad1de8d2c4f3896f3ee9c4add052c",
       "version_major": 2,
       "version_minor": 0
      },
      "text/plain": [
       "VBox(children=(HBox(), HBox(children=(Dropdown(description='Job Title:   ', index=928, options=('COMMUNITY ASS…"
      ]
     },
     "metadata": {},
     "output_type": "display_data"
    }
   ],
   "source": [
    "use_date = widgets.Dropdown(\n",
    "options = list(paymath['Fiscal Year'].unique()),\n",
    "description = 'Year : ',\n",
    "value = 2016.0)\n",
    "\n",
    "job_list = list(paymath['Title Description'].unique())\n",
    "status_list = list(paymath['Leave Status as of June 30'].unique())\n",
    "\n",
    "container = widgets.HBox(childern = [use_date])\n",
    "\n",
    "status = widgets.Dropdown(\n",
    "    options = status_list,\n",
    "    value = 'CEASED',\n",
    "    description = 'Status : '\n",
    ")\n",
    "\n",
    "\n",
    "title = widgets.Dropdown(\n",
    "    options = job_list,\n",
    "    value = '* ATTENDING DENTIST',\n",
    "    description = 'Job Title:   ',\n",
    ")\n",
    "\n",
    "filter_list = [i and j and k for i, j, k in zip(paymath['Fiscal Year'] == 2016.0,\n",
    "                                                paymath['Leave Status as of June 30'] == 'CEASED',\n",
    "                                                paymath['Title Description'] == '*ATTENDING DENTIST')]\n",
    "\n",
    "trace1 = go.Scatter(x = paymath[filter_list]['Work Location Borough'], y = paymath[filter_list]['Base Salary'], \n",
    "                    mode = 'markers', marker_size = 10, name = 'Distribution')\n",
    "trace2 = go.Bar(x = paymath[filter_list]['Mean'], y = paymath[filter_list]['Base Salary'], name = 'Mean')\n",
    "trace3 = go.Bar(x = paymath[filter_list]['Median'], y = paymath[filter_list]['Base Salary'], name = 'Median')\n",
    "trace4 = go.Bar(x = paymath[filter_list]['Minimum Salary'], y = paymath[filter_list]['Base Salary'], name = 'Minimum')\n",
    "trace5 = go.Bar(x = paymath[filter_list]['Maximum Salary'], y = paymath[filter_list]['Base Salary'], name = 'Maximum')\n",
    "\n",
    "\n",
    "\n",
    "g = go.FigureWidget(data = [trace1, trace2, trace3, trace4, trace5], layout = go.Layout(width = 550, height = 550, font_size = 12, \n",
    "                                                        title = dict(text = 'NYC Payroll by Borough')))\n",
    "\n",
    "def validate():\n",
    "    if title.value in paymath['Title Description'].unique():\n",
    "        return True\n",
    "    else:\n",
    "        return False\n",
    "\n",
    "def response(change):\n",
    "    if validate():\n",
    "        if use_date.value:\n",
    "            filter_list = [i and j and k for i, j, k in zip(paymath['Fiscal Year'] == use_date.value, \n",
    "                                                            paymath['Leave Status as of June 30'] == status.value,\n",
    "                                                            paymath['Title Description'] == title.value)]\n",
    "            temp_df = paymath[filter_list]\n",
    "        else:\n",
    "            filter_list = [i and j for i,j in zip(paymath['Leave Status as of June 30'] == status.value,\n",
    "                                                  paymath['Title Description'] == title.value)]\n",
    "            temp_df = paymath[filter_list]\n",
    "            \n",
    "        with g.batch_update():\n",
    "            g.data[0].x = temp_df['Work Location Borough']\n",
    "            g.data[0].y = temp_df['Base Salary']\n",
    "            g.data[1].x = ['Citywide Mean']\n",
    "            g.data[1].y = temp_df['Mean']\n",
    "            g.data[2].x = ['Citywide Median']\n",
    "            g.data[2].y = temp_df['Median']\n",
    "            g.data[3].x = ['Citywide Minimum']\n",
    "            g.data[3].y = temp_df['Minimum Salary']\n",
    "            g.data[4].x = ['Citywide Maximum']\n",
    "            g.data[4].y = temp_df['Maximum Salary']\n",
    "            g.layout.barmode = 'overlay'\n",
    "            g.layout.xaxis.title = 'Location & Basic Math'\n",
    "            g.layout.yaxis.title = 'Salary'\n",
    "            \n",
    "title.observe(response, names = \"value\")\n",
    "status.observe(response, names = \"value\")\n",
    "use_date.observe(response, names = \"value\")\n",
    "\n",
    "container2 = widgets.HBox([title, status])\n",
    "widgets.VBox([container, container2, g], renderer = 'svg')"
   ]
  }
 ],
 "metadata": {
  "kernelspec": {
   "display_name": "Python 3",
   "language": "python",
   "name": "python3"
  },
  "language_info": {
   "codemirror_mode": {
    "name": "ipython",
    "version": 3
   },
   "file_extension": ".py",
   "mimetype": "text/x-python",
   "name": "python",
   "nbconvert_exporter": "python",
   "pygments_lexer": "ipython3",
   "version": "3.7.4"
  }
 },
 "nbformat": 4,
 "nbformat_minor": 2
}
