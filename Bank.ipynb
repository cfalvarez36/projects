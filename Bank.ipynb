{
 "cells": [
  {
   "cell_type": "code",
   "execution_count": 1,
   "metadata": {},
   "outputs": [],
   "source": [
    "import geopandas\n",
    "import geoplot\n",
    "import numpy as np\n",
    "import pandas as pd\n",
    "df = pd.read_csv('\\\\Users\\\\Carlos\\\\Desktop\\\\All_2017.csv')"
   ]
  },
  {
   "cell_type": "code",
   "execution_count": 2,
   "metadata": {},
   "outputs": [
    {
     "data": {
      "text/html": [
       "<div>\n",
       "<style scoped>\n",
       "    .dataframe tbody tr th:only-of-type {\n",
       "        vertical-align: middle;\n",
       "    }\n",
       "\n",
       "    .dataframe tbody tr th {\n",
       "        vertical-align: top;\n",
       "    }\n",
       "\n",
       "    .dataframe thead th {\n",
       "        text-align: right;\n",
       "    }\n",
       "</style>\n",
       "<table border=\"1\" class=\"dataframe\">\n",
       "  <thead>\n",
       "    <tr style=\"text-align: right;\">\n",
       "      <th></th>\n",
       "      <th>Total</th>\n",
       "      <th>Percent</th>\n",
       "    </tr>\n",
       "  </thead>\n",
       "  <tbody>\n",
       "    <tr>\n",
       "      <td>INSBRTS</td>\n",
       "      <td>89849</td>\n",
       "      <td>1.000000</td>\n",
       "    </tr>\n",
       "    <tr>\n",
       "      <td>ESCROW</td>\n",
       "      <td>89849</td>\n",
       "      <td>1.000000</td>\n",
       "    </tr>\n",
       "    <tr>\n",
       "      <td>INSBRDD</td>\n",
       "      <td>89849</td>\n",
       "      <td>1.000000</td>\n",
       "    </tr>\n",
       "    <tr>\n",
       "      <td>NECNAMB</td>\n",
       "      <td>89849</td>\n",
       "      <td>1.000000</td>\n",
       "    </tr>\n",
       "    <tr>\n",
       "      <td>CONSOLD</td>\n",
       "      <td>82876</td>\n",
       "      <td>0.922392</td>\n",
       "    </tr>\n",
       "    <tr>\n",
       "      <td>BRCENM</td>\n",
       "      <td>78661</td>\n",
       "      <td>0.875480</td>\n",
       "    </tr>\n",
       "    <tr>\n",
       "      <td>CBSA_DIV_NAMB</td>\n",
       "      <td>68019</td>\n",
       "      <td>0.757037</td>\n",
       "    </tr>\n",
       "    <tr>\n",
       "      <td>SIMS_ACQUIRED_DATE</td>\n",
       "      <td>38570</td>\n",
       "      <td>0.429276</td>\n",
       "    </tr>\n",
       "    <tr>\n",
       "      <td>CSANAMBR</td>\n",
       "      <td>24945</td>\n",
       "      <td>0.277632</td>\n",
       "    </tr>\n",
       "    <tr>\n",
       "      <td>MSANAMB</td>\n",
       "      <td>18818</td>\n",
       "      <td>0.209440</td>\n",
       "    </tr>\n",
       "    <tr>\n",
       "      <td>STALPHCR</td>\n",
       "      <td>9527</td>\n",
       "      <td>0.106033</td>\n",
       "    </tr>\n",
       "    <tr>\n",
       "      <td>CITYHCR</td>\n",
       "      <td>4588</td>\n",
       "      <td>0.051063</td>\n",
       "    </tr>\n",
       "    <tr>\n",
       "      <td>NAMEHCR</td>\n",
       "      <td>4588</td>\n",
       "      <td>0.051063</td>\n",
       "    </tr>\n",
       "    <tr>\n",
       "      <td>CNTRYNA</td>\n",
       "      <td>4588</td>\n",
       "      <td>0.051063</td>\n",
       "    </tr>\n",
       "    <tr>\n",
       "      <td>SIMS_DESCRIPTION</td>\n",
       "      <td>335</td>\n",
       "      <td>0.003728</td>\n",
       "    </tr>\n",
       "    <tr>\n",
       "      <td>SIMS_LONGITUDE</td>\n",
       "      <td>225</td>\n",
       "      <td>0.002504</td>\n",
       "    </tr>\n",
       "    <tr>\n",
       "      <td>SIMS_LATITUDE</td>\n",
       "      <td>223</td>\n",
       "      <td>0.002482</td>\n",
       "    </tr>\n",
       "    <tr>\n",
       "      <td>SIMS_PROJECTION</td>\n",
       "      <td>187</td>\n",
       "      <td>0.002081</td>\n",
       "    </tr>\n",
       "    <tr>\n",
       "      <td>UNIT</td>\n",
       "      <td>1</td>\n",
       "      <td>0.000011</td>\n",
       "    </tr>\n",
       "    <tr>\n",
       "      <td>DENOVO</td>\n",
       "      <td>1</td>\n",
       "      <td>0.000011</td>\n",
       "    </tr>\n",
       "    <tr>\n",
       "      <td>METROBR</td>\n",
       "      <td>0</td>\n",
       "      <td>0.000000</td>\n",
       "    </tr>\n",
       "  </tbody>\n",
       "</table>\n",
       "</div>"
      ],
      "text/plain": [
       "                    Total   Percent\n",
       "INSBRTS             89849  1.000000\n",
       "ESCROW              89849  1.000000\n",
       "INSBRDD             89849  1.000000\n",
       "NECNAMB             89849  1.000000\n",
       "CONSOLD             82876  0.922392\n",
       "BRCENM              78661  0.875480\n",
       "CBSA_DIV_NAMB       68019  0.757037\n",
       "SIMS_ACQUIRED_DATE  38570  0.429276\n",
       "CSANAMBR            24945  0.277632\n",
       "MSANAMB             18818  0.209440\n",
       "STALPHCR             9527  0.106033\n",
       "CITYHCR              4588  0.051063\n",
       "NAMEHCR              4588  0.051063\n",
       "CNTRYNA              4588  0.051063\n",
       "SIMS_DESCRIPTION      335  0.003728\n",
       "SIMS_LONGITUDE        225  0.002504\n",
       "SIMS_LATITUDE         223  0.002482\n",
       "SIMS_PROJECTION       187  0.002081\n",
       "UNIT                    1  0.000011\n",
       "DENOVO                  1  0.000011\n",
       "METROBR                 0  0.000000"
      ]
     },
     "execution_count": 2,
     "metadata": {},
     "output_type": "execute_result"
    }
   ],
   "source": [
    "total = df.isnull().sum().sort_values(ascending=False)\n",
    "percent = (df.isnull().sum()/df.isnull().count()).sort_values(ascending = False)\n",
    "missing_data = pd.concat([total, percent], axis = 1, keys = ['Total', 'Percent'])\n",
    "missing_data.head(21) \n",
    "#When a value is 0, that means all other values below are 0, so no need to show all 79 col"
   ]
  },
  {
   "cell_type": "code",
   "execution_count": 35,
   "metadata": {},
   "outputs": [
    {
     "ename": "AttributeError",
     "evalue": "'DataFrame' object has no attribute 'total_bounds'",
     "output_type": "error",
     "traceback": [
      "\u001b[1;31m---------------------------------------------------------------------------\u001b[0m",
      "\u001b[1;31mAttributeError\u001b[0m                            Traceback (most recent call last)",
      "\u001b[1;32m<ipython-input-35-191ffac4990f>\u001b[0m in \u001b[0;36m<module>\u001b[1;34m\u001b[0m\n\u001b[0;32m     10\u001b[0m     \u001b[0mdf1\u001b[0m\u001b[1;33m,\u001b[0m \u001b[0mclip\u001b[0m\u001b[1;33m=\u001b[0m\u001b[0mboroughs\u001b[0m\u001b[1;33m.\u001b[0m\u001b[0mgeometry\u001b[0m\u001b[1;33m,\u001b[0m\u001b[1;33m\u001b[0m\u001b[1;33m\u001b[0m\u001b[0m\n\u001b[0;32m     11\u001b[0m     \u001b[0mshade\u001b[0m\u001b[1;33m=\u001b[0m\u001b[1;32mTrue\u001b[0m\u001b[1;33m,\u001b[0m \u001b[0mcmap\u001b[0m\u001b[1;33m=\u001b[0m\u001b[1;34m'Reds'\u001b[0m\u001b[1;33m,\u001b[0m\u001b[1;33m\u001b[0m\u001b[1;33m\u001b[0m\u001b[0m\n\u001b[1;32m---> 12\u001b[1;33m     projection=geoplot.crs.AlbersEqualArea())\n\u001b[0m\u001b[0;32m     13\u001b[0m \u001b[0mgeoplot\u001b[0m\u001b[1;33m.\u001b[0m\u001b[0mpolyplot\u001b[0m\u001b[1;33m(\u001b[0m\u001b[0mboroughs\u001b[0m\u001b[1;33m,\u001b[0m \u001b[0max\u001b[0m\u001b[1;33m=\u001b[0m\u001b[0max\u001b[0m\u001b[1;33m,\u001b[0m \u001b[0mzorder\u001b[0m\u001b[1;33m=\u001b[0m\u001b[1;36m1\u001b[0m\u001b[1;33m)\u001b[0m\u001b[1;33m\u001b[0m\u001b[1;33m\u001b[0m\u001b[0m\n",
      "\u001b[1;32m~\\Anaconda3\\lib\\site-packages\\geoplot\\geoplot.py\u001b[0m in \u001b[0;36mkdeplot\u001b[1;34m(df, projection, extent, figsize, ax, clip, shade_lowest, **kwargs)\u001b[0m\n\u001b[0;32m   1323\u001b[0m         \u001b[0mdf\u001b[0m\u001b[1;33m,\u001b[0m \u001b[0mprojection\u001b[0m\u001b[1;33m=\u001b[0m\u001b[0mprojection\u001b[0m\u001b[1;33m,\u001b[0m \u001b[0mextent\u001b[0m\u001b[1;33m=\u001b[0m\u001b[0mextent\u001b[0m\u001b[1;33m,\u001b[0m \u001b[0mfigsize\u001b[0m\u001b[1;33m=\u001b[0m\u001b[0mfigsize\u001b[0m\u001b[1;33m,\u001b[0m \u001b[0max\u001b[0m\u001b[1;33m=\u001b[0m\u001b[0max\u001b[0m\u001b[1;33m,\u001b[0m \u001b[0mclip\u001b[0m\u001b[1;33m=\u001b[0m\u001b[0mclip\u001b[0m\u001b[1;33m,\u001b[0m\u001b[1;33m\u001b[0m\u001b[1;33m\u001b[0m\u001b[0m\n\u001b[0;32m   1324\u001b[0m         \u001b[0mshade_lowest\u001b[0m\u001b[1;33m=\u001b[0m\u001b[0mshade_lowest\u001b[0m\u001b[1;33m,\u001b[0m\u001b[1;33m\u001b[0m\u001b[1;33m\u001b[0m\u001b[0m\n\u001b[1;32m-> 1325\u001b[1;33m         \u001b[1;33m**\u001b[0m\u001b[0mkwargs\u001b[0m\u001b[1;33m\u001b[0m\u001b[1;33m\u001b[0m\u001b[0m\n\u001b[0m\u001b[0;32m   1326\u001b[0m     )\n\u001b[0;32m   1327\u001b[0m     \u001b[1;32mreturn\u001b[0m \u001b[0mplot\u001b[0m\u001b[1;33m.\u001b[0m\u001b[0mdraw\u001b[0m\u001b[1;33m(\u001b[0m\u001b[1;33m)\u001b[0m\u001b[1;33m\u001b[0m\u001b[1;33m\u001b[0m\u001b[0m\n",
      "\u001b[1;32m~\\Anaconda3\\lib\\site-packages\\geoplot\\geoplot.py\u001b[0m in \u001b[0;36m__init__\u001b[1;34m(self, df, **kwargs)\u001b[0m\n\u001b[0;32m   1291\u001b[0m     \u001b[1;32mclass\u001b[0m \u001b[0mKDEPlot\u001b[0m\u001b[1;33m(\u001b[0m\u001b[0mPlot\u001b[0m\u001b[1;33m,\u001b[0m \u001b[0mHueMixin\u001b[0m\u001b[1;33m,\u001b[0m \u001b[0mLegendMixin\u001b[0m\u001b[1;33m,\u001b[0m \u001b[0mClipMixin\u001b[0m\u001b[1;33m)\u001b[0m\u001b[1;33m:\u001b[0m\u001b[1;33m\u001b[0m\u001b[1;33m\u001b[0m\u001b[0m\n\u001b[0;32m   1292\u001b[0m         \u001b[1;32mdef\u001b[0m \u001b[0m__init__\u001b[0m\u001b[1;33m(\u001b[0m\u001b[0mself\u001b[0m\u001b[1;33m,\u001b[0m \u001b[0mdf\u001b[0m\u001b[1;33m,\u001b[0m \u001b[1;33m**\u001b[0m\u001b[0mkwargs\u001b[0m\u001b[1;33m)\u001b[0m\u001b[1;33m:\u001b[0m\u001b[1;33m\u001b[0m\u001b[1;33m\u001b[0m\u001b[0m\n\u001b[1;32m-> 1293\u001b[1;33m             \u001b[0msuper\u001b[0m\u001b[1;33m(\u001b[0m\u001b[1;33m)\u001b[0m\u001b[1;33m.\u001b[0m\u001b[0m__init__\u001b[0m\u001b[1;33m(\u001b[0m\u001b[0mdf\u001b[0m\u001b[1;33m,\u001b[0m \u001b[1;33m**\u001b[0m\u001b[0mkwargs\u001b[0m\u001b[1;33m)\u001b[0m\u001b[1;33m\u001b[0m\u001b[1;33m\u001b[0m\u001b[0m\n\u001b[0m\u001b[0;32m   1294\u001b[0m             self.set_hue_values(\n\u001b[0;32m   1295\u001b[0m                 \u001b[0mcolor_kwarg\u001b[0m\u001b[1;33m=\u001b[0m\u001b[1;32mNone\u001b[0m\u001b[1;33m,\u001b[0m \u001b[0mdefault_color\u001b[0m\u001b[1;33m=\u001b[0m\u001b[1;32mNone\u001b[0m\u001b[1;33m,\u001b[0m \u001b[0msupports_categorical\u001b[0m\u001b[1;33m=\u001b[0m\u001b[1;32mFalse\u001b[0m\u001b[1;33m,\u001b[0m\u001b[1;33m\u001b[0m\u001b[1;33m\u001b[0m\u001b[0m\n",
      "\u001b[1;32m~\\Anaconda3\\lib\\site-packages\\geoplot\\geoplot.py\u001b[0m in \u001b[0;36m__init__\u001b[1;34m(self, df, **kwargs)\u001b[0m\n\u001b[0;32m    602\u001b[0m         \u001b[0mself\u001b[0m\u001b[1;33m.\u001b[0m\u001b[0mprojection\u001b[0m \u001b[1;33m=\u001b[0m \u001b[0mkwargs\u001b[0m\u001b[1;33m.\u001b[0m\u001b[0mpop\u001b[0m\u001b[1;33m(\u001b[0m\u001b[1;34m'projection'\u001b[0m\u001b[1;33m)\u001b[0m\u001b[1;33m\u001b[0m\u001b[1;33m\u001b[0m\u001b[0m\n\u001b[0;32m    603\u001b[0m         \u001b[1;31m# TODO: init_axis() -> init_axis(ax)\u001b[0m\u001b[1;33m\u001b[0m\u001b[1;33m\u001b[0m\u001b[1;33m\u001b[0m\u001b[0m\n\u001b[1;32m--> 604\u001b[1;33m         \u001b[0mself\u001b[0m\u001b[1;33m.\u001b[0m\u001b[0minit_axis\u001b[0m\u001b[1;33m(\u001b[0m\u001b[1;33m)\u001b[0m\u001b[1;33m\u001b[0m\u001b[1;33m\u001b[0m\u001b[0m\n\u001b[0m\u001b[0;32m    605\u001b[0m         \u001b[0mself\u001b[0m\u001b[1;33m.\u001b[0m\u001b[0mkwargs\u001b[0m \u001b[1;33m=\u001b[0m \u001b[0mkwargs\u001b[0m\u001b[1;33m\u001b[0m\u001b[1;33m\u001b[0m\u001b[0m\n\u001b[0;32m    606\u001b[0m \u001b[1;33m\u001b[0m\u001b[0m\n",
      "\u001b[1;32m~\\Anaconda3\\lib\\site-packages\\geoplot\\geoplot.py\u001b[0m in \u001b[0;36minit_axis\u001b[1;34m(self)\u001b[0m\n\u001b[0;32m    613\u001b[0m             \u001b[0mextrema\u001b[0m \u001b[1;33m=\u001b[0m \u001b[0mnp\u001b[0m\u001b[1;33m.\u001b[0m\u001b[0marray\u001b[0m\u001b[1;33m(\u001b[0m\u001b[1;33m[\u001b[0m\u001b[1;36m0\u001b[0m\u001b[1;33m,\u001b[0m \u001b[1;36m0\u001b[0m\u001b[1;33m,\u001b[0m \u001b[1;36m1\u001b[0m\u001b[1;33m,\u001b[0m \u001b[1;36m1\u001b[0m\u001b[1;33m]\u001b[0m\u001b[1;33m)\u001b[0m  \u001b[1;31m# default matplotlib plot extent\u001b[0m\u001b[1;33m\u001b[0m\u001b[1;33m\u001b[0m\u001b[0m\n\u001b[0;32m    614\u001b[0m         \u001b[1;32melse\u001b[0m\u001b[1;33m:\u001b[0m\u001b[1;33m\u001b[0m\u001b[1;33m\u001b[0m\u001b[0m\n\u001b[1;32m--> 615\u001b[1;33m             \u001b[0mxmin\u001b[0m\u001b[1;33m,\u001b[0m \u001b[0mymin\u001b[0m\u001b[1;33m,\u001b[0m \u001b[0mxmax\u001b[0m\u001b[1;33m,\u001b[0m \u001b[0mymax\u001b[0m \u001b[1;33m=\u001b[0m \u001b[0mself\u001b[0m\u001b[1;33m.\u001b[0m\u001b[0mdf\u001b[0m\u001b[1;33m.\u001b[0m\u001b[0mtotal_bounds\u001b[0m\u001b[1;33m\u001b[0m\u001b[1;33m\u001b[0m\u001b[0m\n\u001b[0m\u001b[0;32m    616\u001b[0m             \u001b[1;31m# Plots suffer clipping issues if we use just the geometry extrema due to plot features\u001b[0m\u001b[1;33m\u001b[0m\u001b[1;33m\u001b[0m\u001b[1;33m\u001b[0m\u001b[0m\n\u001b[0;32m    617\u001b[0m             \u001b[1;31m# that fall outside of the viewport. The most common case is the edges of polygon\u001b[0m\u001b[1;33m\u001b[0m\u001b[1;33m\u001b[0m\u001b[1;33m\u001b[0m\u001b[0m\n",
      "\u001b[1;32m~\\Anaconda3\\lib\\site-packages\\pandas\\core\\generic.py\u001b[0m in \u001b[0;36m__getattr__\u001b[1;34m(self, name)\u001b[0m\n\u001b[0;32m   5177\u001b[0m             \u001b[1;32mif\u001b[0m \u001b[0mself\u001b[0m\u001b[1;33m.\u001b[0m\u001b[0m_info_axis\u001b[0m\u001b[1;33m.\u001b[0m\u001b[0m_can_hold_identifiers_and_holds_name\u001b[0m\u001b[1;33m(\u001b[0m\u001b[0mname\u001b[0m\u001b[1;33m)\u001b[0m\u001b[1;33m:\u001b[0m\u001b[1;33m\u001b[0m\u001b[1;33m\u001b[0m\u001b[0m\n\u001b[0;32m   5178\u001b[0m                 \u001b[1;32mreturn\u001b[0m \u001b[0mself\u001b[0m\u001b[1;33m[\u001b[0m\u001b[0mname\u001b[0m\u001b[1;33m]\u001b[0m\u001b[1;33m\u001b[0m\u001b[1;33m\u001b[0m\u001b[0m\n\u001b[1;32m-> 5179\u001b[1;33m             \u001b[1;32mreturn\u001b[0m \u001b[0mobject\u001b[0m\u001b[1;33m.\u001b[0m\u001b[0m__getattribute__\u001b[0m\u001b[1;33m(\u001b[0m\u001b[0mself\u001b[0m\u001b[1;33m,\u001b[0m \u001b[0mname\u001b[0m\u001b[1;33m)\u001b[0m\u001b[1;33m\u001b[0m\u001b[1;33m\u001b[0m\u001b[0m\n\u001b[0m\u001b[0;32m   5180\u001b[0m \u001b[1;33m\u001b[0m\u001b[0m\n\u001b[0;32m   5181\u001b[0m     \u001b[1;32mdef\u001b[0m \u001b[0m__setattr__\u001b[0m\u001b[1;33m(\u001b[0m\u001b[0mself\u001b[0m\u001b[1;33m,\u001b[0m \u001b[0mname\u001b[0m\u001b[1;33m,\u001b[0m \u001b[0mvalue\u001b[0m\u001b[1;33m)\u001b[0m\u001b[1;33m:\u001b[0m\u001b[1;33m\u001b[0m\u001b[1;33m\u001b[0m\u001b[0m\n",
      "\u001b[1;31mAttributeError\u001b[0m: 'DataFrame' object has no attribute 'total_bounds'"
     ]
    },
    {
     "data": {
      "text/plain": [
       "<Figure size 576x432 with 0 Axes>"
      ]
     },
     "metadata": {},
     "output_type": "display_data"
    }
   ],
   "source": [
    "\"\"\"df1 = df[df[\"CNTRYNA\"]=='United States'].loc[lambda x : x['STNAME'] == 'New York']\n",
    "latlon = list(zip(df1.SIMS_LATITUDE, df1.SIMS_LONGITUDE))\n",
    "boroughs = geopandas.read_file(\n",
    "    geoplot.datasets.get_path('nyc_boroughs')\n",
    ")\"\"\"\n",
    "collisions = geopandas.read_file(\n",
    "    geoplot.datasets.get_path('nyc_injurious_collisions')\n",
    ")\n",
    "ax = geoplot.kdeplot(\n",
    "    df1, clip=boroughs.geometry,\n",
    "    shade=True, cmap='Reds',\n",
    "    projection=geoplot.crs.AlbersEqualArea())\n",
    "geoplot.polyplot(boroughs, ax=ax, zorder=1)"
   ]
  },
  {
   "cell_type": "code",
   "execution_count": null,
   "metadata": {},
   "outputs": [],
   "source": [
    "from shapely.geometry import Point\n",
    "\n",
    "collision_points = nyc_collisions_sample.apply(\n",
    "    lambda srs: Point(float(srs['LONGITUDE']), float(srs['LATITUDE'])),\n",
    "    axis='columns'\n",
    ")\n",
    "collision_points\n",
    "\n",
    "import geopandas as gpd\n",
    "nyc_collisions_sample_geocoded = gpd.GeoDataFrame(nyc_collisions_sample, geometry=collision_points)\n",
    "nyc_collisions_sample_geocoded\n",
    "\n"
   ]
  },
  {
   "cell_type": "markdown",
   "metadata": {},
   "source": [
    "combine lat lon into parentheses like collisions.geometry (LAT LON -- NO COMMA)\n",
    "add city name column from all_2017 (either citybr  \\ Cntynamb\\ city2br) REVIEW DOC NOTES TO DETERMINE WHICH IS BEST. MIGHT BE CNTYNAMB\n",
    "ALL2017.SELECT US. SELECT NY. SELECT 5 BOROUGHS\n",
    "\n",
    "collisions geometry point because its a single entry\n",
    "boroughs multipolygon because has multiple selections to cover wide range"
   ]
  },
  {
   "cell_type": "code",
   "execution_count": 29,
   "metadata": {
    "scrolled": true
   },
   "outputs": [
    {
     "name": "stdout",
     "output_type": "stream",
     "text": [
      "<class 'pandas.core.frame.DataFrame'>\n",
      "Int64Index: 2611 entries, 798 to 88539\n",
      "Data columns (total 79 columns):\n",
      "YEAR                     2611 non-null int64\n",
      "CERT                     2611 non-null int64\n",
      "BRNUM                    2611 non-null int64\n",
      "UNINUMBR                 2611 non-null int64\n",
      "NAMEFULL                 2611 non-null object\n",
      "ADDRESBR                 2611 non-null object\n",
      "CITYBR                   2611 non-null object\n",
      "CNTYNAMB                 2611 non-null object\n",
      "STALPBR                  2611 non-null object\n",
      "ZIPBR                    2611 non-null int64\n",
      "BRCENM                   188 non-null object\n",
      "CONSOLD                  59 non-null float64\n",
      "BRSERTYP                 2611 non-null int64\n",
      "DEPSUMBR                 2611 non-null object\n",
      "BKMO                     2611 non-null int64\n",
      "CBSA_DIV_NAMB            1097 non-null object\n",
      "CITY2BR                  2611 non-null object\n",
      "CNTRYNAB                 2611 non-null object\n",
      "CNTYNUMB                 2611 non-null int64\n",
      "CSABR                    2611 non-null int64\n",
      "CSANAMBR                 2082 non-null object\n",
      "DIVISIONB                2611 non-null int64\n",
      "MSABR                    2611 non-null int64\n",
      "MSANAMB                  2206 non-null object\n",
      "METROBR                  2611 non-null int64\n",
      "MICROBR                  2611 non-null int64\n",
      "NAMEBR                   2611 non-null object\n",
      "NECTABR                  2611 non-null int64\n",
      "NECNAMB                  0 non-null float64\n",
      "PLACENUM                 2611 non-null int64\n",
      "SIMS_ACQUIRED_DATE       1566 non-null object\n",
      "SIMS_ESTABLISHED_DATE    2611 non-null object\n",
      "SIMS_LATITUDE            2610 non-null float64\n",
      "SIMS_LONGITUDE           2610 non-null float64\n",
      "SIMS_DESCRIPTION         2602 non-null object\n",
      "SIMS_PROJECTION          2610 non-null object\n",
      "STCNTYBR                 2611 non-null int64\n",
      "STNAMEBR                 2611 non-null object\n",
      "STNUMBR                  2611 non-null int64\n",
      "HCTMULT                  2611 non-null object\n",
      "RSSDHCR                  2611 non-null int64\n",
      "NAMEHCR                  2611 non-null object\n",
      "CITYHCR                  2611 non-null object\n",
      "STALPHCR                 2611 non-null object\n",
      "RSSDID                   2611 non-null int64\n",
      "UNIT                     2611 non-null float64\n",
      "ADDRESS                  2611 non-null object\n",
      "CITY                     2611 non-null object\n",
      "STALP                    2611 non-null object\n",
      "ZIP                      2611 non-null int64\n",
      "ASSET                    2611 non-null object\n",
      "BKCLASS                  2611 non-null object\n",
      "CALL                     2611 non-null object\n",
      "CHARTER                  2611 non-null object\n",
      "CHRTAGNN                 2611 non-null object\n",
      "CHRTAGNT                 2611 non-null object\n",
      "CLCODE                   2611 non-null int64\n",
      "CNTRYNA                  2611 non-null object\n",
      "DENOVO                   2611 non-null float64\n",
      "DEPDOM                   2611 non-null object\n",
      "DEPSUM                   2611 non-null object\n",
      "DOCKET                   2611 non-null int64\n",
      "ESCROW                   0 non-null float64\n",
      "FDICDBS                  2611 non-null int64\n",
      "FDICNAME                 2611 non-null object\n",
      "FED                      2611 non-null int64\n",
      "FEDNAME                  2611 non-null object\n",
      "INSAGNT1                 2611 non-null object\n",
      "INSURED                  2611 non-null object\n",
      "INSBRDD                  0 non-null float64\n",
      "INSBRTS                  0 non-null float64\n",
      "OCCDIST                  2611 non-null int64\n",
      "OCCNAME                  2611 non-null object\n",
      "REGAGNT                  2611 non-null object\n",
      "SPECGRP                  2611 non-null int64\n",
      "SPECDESC                 2611 non-null object\n",
      "STCNTY                   2611 non-null int64\n",
      "STNAME                   2611 non-null object\n",
      "USA                      2611 non-null int64\n",
      "dtypes: float64(9), int64(28), object(42)\n",
      "memory usage: 1.6+ MB\n"
     ]
    }
   ],
   "source": [
    "df1.info()"
   ]
  },
  {
   "cell_type": "code",
   "execution_count": 33,
   "metadata": {},
   "outputs": [],
   "source": [
    "df1['geometry'] = df1['SIMS_LONGITUDE'].astype(str) + ' ' +  df1['SIMS_LATITUDE'].astype(str)"
   ]
  },
  {
   "cell_type": "code",
   "execution_count": 37,
   "metadata": {},
   "outputs": [
    {
     "ename": "NameError",
     "evalue": "name 'geometry' is not defined",
     "output_type": "error",
     "traceback": [
      "\u001b[1;31m---------------------------------------------------------------------------\u001b[0m",
      "\u001b[1;31mNameError\u001b[0m                                 Traceback (most recent call last)",
      "\u001b[1;32m<ipython-input-37-5a8db62f354e>\u001b[0m in \u001b[0;36m<module>\u001b[1;34m\u001b[0m\n\u001b[1;32m----> 1\u001b[1;33m \u001b[0mdf1\u001b[0m\u001b[1;33m[\u001b[0m\u001b[1;34m'geometry'\u001b[0m\u001b[1;33m]\u001b[0m \u001b[1;33m=\u001b[0m \u001b[0mdf1\u001b[0m\u001b[1;33m[\u001b[0m\u001b[1;34m'geometry'\u001b[0m\u001b[1;33m]\u001b[0m\u001b[1;33m.\u001b[0m\u001b[0mastype\u001b[0m\u001b[1;33m(\u001b[0m\u001b[0mgeometry\u001b[0m\u001b[1;33m)\u001b[0m\u001b[1;33m\u001b[0m\u001b[1;33m\u001b[0m\u001b[0m\n\u001b[0m",
      "\u001b[1;31mNameError\u001b[0m: name 'geometry' is not defined"
     ]
    }
   ],
   "source": [
    "df1['geometry'] = df1['geometry'].astype(geometry)"
   ]
  },
  {
   "cell_type": "code",
   "execution_count": 26,
   "metadata": {},
   "outputs": [
    {
     "data": {
      "text/plain": [
       "0        POINT (-73.94268 40.67650)\n",
       "1        POINT (-74.00834 40.72132)\n",
       "2        POINT (-73.97076 40.68764)\n",
       "3        POINT (-73.83874 40.88127)\n",
       "4        POINT (-73.98873 40.59300)\n",
       "                    ...            \n",
       "20639    POINT (-73.98786 40.72270)\n",
       "20640    POINT (-73.99766 40.63837)\n",
       "20641    POINT (-73.95632 40.80312)\n",
       "20642    POINT (-73.96255 40.71253)\n",
       "20643    POINT (-73.95399 40.77882)\n",
       "Name: geometry, Length: 20644, dtype: geometry"
      ]
     },
     "execution_count": 26,
     "metadata": {},
     "output_type": "execute_result"
    }
   ],
   "source": [
    "collisions['geometry']"
   ]
  },
  {
   "cell_type": "code",
   "execution_count": 27,
   "metadata": {},
   "outputs": [
    {
     "data": {
      "text/html": [
       "<div>\n",
       "<style scoped>\n",
       "    .dataframe tbody tr th:only-of-type {\n",
       "        vertical-align: middle;\n",
       "    }\n",
       "\n",
       "    .dataframe tbody tr th {\n",
       "        vertical-align: top;\n",
       "    }\n",
       "\n",
       "    .dataframe thead th {\n",
       "        text-align: right;\n",
       "    }\n",
       "</style>\n",
       "<table border=\"1\" class=\"dataframe\">\n",
       "  <thead>\n",
       "    <tr style=\"text-align: right;\">\n",
       "      <th></th>\n",
       "      <th>id</th>\n",
       "      <th>NUMBER OF PERSONS INJURED</th>\n",
       "      <th>BOROUGH</th>\n",
       "      <th>geometry</th>\n",
       "    </tr>\n",
       "  </thead>\n",
       "  <tbody>\n",
       "    <tr>\n",
       "      <td>0</td>\n",
       "      <td>11</td>\n",
       "      <td>1</td>\n",
       "      <td>BROOKLYN</td>\n",
       "      <td>POINT (-73.94268 40.67650)</td>\n",
       "    </tr>\n",
       "    <tr>\n",
       "      <td>1</td>\n",
       "      <td>21</td>\n",
       "      <td>1</td>\n",
       "      <td>MANHATTAN</td>\n",
       "      <td>POINT (-74.00834 40.72132)</td>\n",
       "    </tr>\n",
       "    <tr>\n",
       "      <td>2</td>\n",
       "      <td>27</td>\n",
       "      <td>1</td>\n",
       "      <td>BROOKLYN</td>\n",
       "      <td>POINT (-73.97076 40.68764)</td>\n",
       "    </tr>\n",
       "    <tr>\n",
       "      <td>3</td>\n",
       "      <td>28</td>\n",
       "      <td>1</td>\n",
       "      <td>BRONX</td>\n",
       "      <td>POINT (-73.83874 40.88127)</td>\n",
       "    </tr>\n",
       "    <tr>\n",
       "      <td>4</td>\n",
       "      <td>33</td>\n",
       "      <td>1</td>\n",
       "      <td>BROOKLYN</td>\n",
       "      <td>POINT (-73.98873 40.59300)</td>\n",
       "    </tr>\n",
       "    <tr>\n",
       "      <td>...</td>\n",
       "      <td>...</td>\n",
       "      <td>...</td>\n",
       "      <td>...</td>\n",
       "      <td>...</td>\n",
       "    </tr>\n",
       "    <tr>\n",
       "      <td>20639</td>\n",
       "      <td>920296</td>\n",
       "      <td>1</td>\n",
       "      <td>MANHATTAN</td>\n",
       "      <td>POINT (-73.98786 40.72270)</td>\n",
       "    </tr>\n",
       "    <tr>\n",
       "      <td>20640</td>\n",
       "      <td>920302</td>\n",
       "      <td>1</td>\n",
       "      <td>BROOKLYN</td>\n",
       "      <td>POINT (-73.99766 40.63837)</td>\n",
       "    </tr>\n",
       "    <tr>\n",
       "      <td>20641</td>\n",
       "      <td>920312</td>\n",
       "      <td>1</td>\n",
       "      <td>MANHATTAN</td>\n",
       "      <td>POINT (-73.95632 40.80312)</td>\n",
       "    </tr>\n",
       "    <tr>\n",
       "      <td>20642</td>\n",
       "      <td>920313</td>\n",
       "      <td>2</td>\n",
       "      <td>BROOKLYN</td>\n",
       "      <td>POINT (-73.96255 40.71253)</td>\n",
       "    </tr>\n",
       "    <tr>\n",
       "      <td>20643</td>\n",
       "      <td>935960</td>\n",
       "      <td>1</td>\n",
       "      <td>MANHATTAN</td>\n",
       "      <td>POINT (-73.95399 40.77882)</td>\n",
       "    </tr>\n",
       "  </tbody>\n",
       "</table>\n",
       "<p>20644 rows × 4 columns</p>\n",
       "</div>"
      ],
      "text/plain": [
       "           id  NUMBER OF PERSONS INJURED    BOROUGH  \\\n",
       "0          11                          1   BROOKLYN   \n",
       "1          21                          1  MANHATTAN   \n",
       "2          27                          1   BROOKLYN   \n",
       "3          28                          1      BRONX   \n",
       "4          33                          1   BROOKLYN   \n",
       "...       ...                        ...        ...   \n",
       "20639  920296                          1  MANHATTAN   \n",
       "20640  920302                          1   BROOKLYN   \n",
       "20641  920312                          1  MANHATTAN   \n",
       "20642  920313                          2   BROOKLYN   \n",
       "20643  935960                          1  MANHATTAN   \n",
       "\n",
       "                         geometry  \n",
       "0      POINT (-73.94268 40.67650)  \n",
       "1      POINT (-74.00834 40.72132)  \n",
       "2      POINT (-73.97076 40.68764)  \n",
       "3      POINT (-73.83874 40.88127)  \n",
       "4      POINT (-73.98873 40.59300)  \n",
       "...                           ...  \n",
       "20639  POINT (-73.98786 40.72270)  \n",
       "20640  POINT (-73.99766 40.63837)  \n",
       "20641  POINT (-73.95632 40.80312)  \n",
       "20642  POINT (-73.96255 40.71253)  \n",
       "20643  POINT (-73.95399 40.77882)  \n",
       "\n",
       "[20644 rows x 4 columns]"
      ]
     },
     "execution_count": 27,
     "metadata": {},
     "output_type": "execute_result"
    }
   ],
   "source": [
    "collisions"
   ]
  },
  {
   "cell_type": "code",
   "execution_count": 36,
   "metadata": {},
   "outputs": [
    {
     "name": "stdout",
     "output_type": "stream",
     "text": [
      "<class 'geopandas.geodataframe.GeoDataFrame'>\n",
      "RangeIndex: 20644 entries, 0 to 20643\n",
      "Data columns (total 4 columns):\n",
      "id                           20644 non-null object\n",
      "NUMBER OF PERSONS INJURED    20644 non-null int64\n",
      "BOROUGH                      20644 non-null object\n",
      "geometry                     20644 non-null geometry\n",
      "dtypes: geometry(1), int64(1), object(2)\n",
      "memory usage: 645.2+ KB\n"
     ]
    }
   ],
   "source": [
    "collisions.info()"
   ]
  },
  {
   "cell_type": "code",
   "execution_count": 18,
   "metadata": {},
   "outputs": [
    {
     "data": {
      "text/html": [
       "<div>\n",
       "<style scoped>\n",
       "    .dataframe tbody tr th:only-of-type {\n",
       "        vertical-align: middle;\n",
       "    }\n",
       "\n",
       "    .dataframe tbody tr th {\n",
       "        vertical-align: top;\n",
       "    }\n",
       "\n",
       "    .dataframe thead th {\n",
       "        text-align: right;\n",
       "    }\n",
       "</style>\n",
       "<table border=\"1\" class=\"dataframe\">\n",
       "  <thead>\n",
       "    <tr style=\"text-align: right;\">\n",
       "      <th></th>\n",
       "      <th>BoroCode</th>\n",
       "      <th>BoroName</th>\n",
       "      <th>Shape_Leng</th>\n",
       "      <th>Shape_Area</th>\n",
       "      <th>geometry</th>\n",
       "    </tr>\n",
       "  </thead>\n",
       "  <tbody>\n",
       "    <tr>\n",
       "      <td>0</td>\n",
       "      <td>5</td>\n",
       "      <td>Staten Island</td>\n",
       "      <td>330385.03697</td>\n",
       "      <td>1.623853e+09</td>\n",
       "      <td>MULTIPOLYGON (((-74.05051 40.56642, -74.05047 ...</td>\n",
       "    </tr>\n",
       "    <tr>\n",
       "      <td>1</td>\n",
       "      <td>4</td>\n",
       "      <td>Queens</td>\n",
       "      <td>861038.47930</td>\n",
       "      <td>3.049947e+09</td>\n",
       "      <td>MULTIPOLYGON (((-73.83668 40.59495, -73.83678 ...</td>\n",
       "    </tr>\n",
       "    <tr>\n",
       "      <td>2</td>\n",
       "      <td>3</td>\n",
       "      <td>Brooklyn</td>\n",
       "      <td>726568.94634</td>\n",
       "      <td>1.959432e+09</td>\n",
       "      <td>MULTIPOLYGON (((-73.86706 40.58209, -73.86769 ...</td>\n",
       "    </tr>\n",
       "    <tr>\n",
       "      <td>3</td>\n",
       "      <td>1</td>\n",
       "      <td>Manhattan</td>\n",
       "      <td>358532.95642</td>\n",
       "      <td>6.364422e+08</td>\n",
       "      <td>MULTIPOLYGON (((-74.01093 40.68449, -74.01193 ...</td>\n",
       "    </tr>\n",
       "    <tr>\n",
       "      <td>4</td>\n",
       "      <td>2</td>\n",
       "      <td>Bronx</td>\n",
       "      <td>464517.89055</td>\n",
       "      <td>1.186804e+09</td>\n",
       "      <td>MULTIPOLYGON (((-73.89681 40.79581, -73.89694 ...</td>\n",
       "    </tr>\n",
       "  </tbody>\n",
       "</table>\n",
       "</div>"
      ],
      "text/plain": [
       "   BoroCode       BoroName    Shape_Leng    Shape_Area  \\\n",
       "0         5  Staten Island  330385.03697  1.623853e+09   \n",
       "1         4         Queens  861038.47930  3.049947e+09   \n",
       "2         3       Brooklyn  726568.94634  1.959432e+09   \n",
       "3         1      Manhattan  358532.95642  6.364422e+08   \n",
       "4         2          Bronx  464517.89055  1.186804e+09   \n",
       "\n",
       "                                            geometry  \n",
       "0  MULTIPOLYGON (((-74.05051 40.56642, -74.05047 ...  \n",
       "1  MULTIPOLYGON (((-73.83668 40.59495, -73.83678 ...  \n",
       "2  MULTIPOLYGON (((-73.86706 40.58209, -73.86769 ...  \n",
       "3  MULTIPOLYGON (((-74.01093 40.68449, -74.01193 ...  \n",
       "4  MULTIPOLYGON (((-73.89681 40.79581, -73.89694 ...  "
      ]
     },
     "execution_count": 18,
     "metadata": {},
     "output_type": "execute_result"
    }
   ],
   "source": [
    "boroughs"
   ]
  },
  {
   "cell_type": "code",
   "execution_count": 11,
   "metadata": {},
   "outputs": [
    {
     "name": "stdout",
     "output_type": "stream",
     "text": [
      "<class 'geopandas.geodataframe.GeoDataFrame'>\n",
      "RangeIndex: 5 entries, 0 to 4\n",
      "Data columns (total 5 columns):\n",
      "BoroCode      5 non-null int64\n",
      "BoroName      5 non-null object\n",
      "Shape_Leng    5 non-null float64\n",
      "Shape_Area    5 non-null float64\n",
      "geometry      5 non-null geometry\n",
      "dtypes: float64(2), geometry(1), int64(1), object(1)\n",
      "memory usage: 328.0+ bytes\n"
     ]
    }
   ],
   "source": [
    "boroughs.info()"
   ]
  },
  {
   "cell_type": "code",
   "execution_count": 13,
   "metadata": {},
   "outputs": [
    {
     "name": "stdout",
     "output_type": "stream",
     "text": [
      "<class 'geopandas.geodataframe.GeoDataFrame'>\n",
      "RangeIndex: 20644 entries, 0 to 20643\n",
      "Data columns (total 4 columns):\n",
      "id                           20644 non-null object\n",
      "NUMBER OF PERSONS INJURED    20644 non-null int64\n",
      "BOROUGH                      20644 non-null object\n",
      "geometry                     20644 non-null geometry\n",
      "dtypes: geometry(1), int64(1), object(2)\n",
      "memory usage: 645.2+ KB\n"
     ]
    }
   ],
   "source": [
    "collisions.info()"
   ]
  },
  {
   "cell_type": "code",
   "execution_count": 10,
   "metadata": {},
   "outputs": [
    {
     "data": {
      "text/plain": [
       "<matplotlib.axes._subplots.AxesSubplot at 0x19d20f0a208>"
      ]
     },
     "execution_count": 10,
     "metadata": {},
     "output_type": "execute_result"
    },
    {
     "data": {
      "image/png": "[encoded data removed]",
      "text/plain": [
       "<Figure size 576x432 with 1 Axes>"
      ]
     },
     "metadata": {
      "needs_background": "light"
     },
     "output_type": "display_data"
    }
   ],
   "source": [
    "geoplot.choropleth(boroughs, hue = 'BoroCode')"
   ]
  },
  {
   "cell_type": "code",
   "execution_count": null,
   "metadata": {},
   "outputs": [],
   "source": []
  }
 ],
 "metadata": {
  "kernelspec": {
   "display_name": "Python 3",
   "language": "python",
   "name": "python3"
  },
  "language_info": {
   "codemirror_mode": {
    "name": "ipython",
    "version": 3
   },
   "file_extension": ".py",
   "mimetype": "text/x-python",
   "name": "python",
   "nbconvert_exporter": "python",
   "pygments_lexer": "ipython3",
   "version": "3.7.4"
  }
 },
 "nbformat": 4,
 "nbformat_minor": 2
}
