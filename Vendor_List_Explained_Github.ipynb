{
 "cells": [
  {
   "cell_type": "markdown",
   "metadata": {},
   "source": [
    "# This project contains sensitive information. To protect the client's identity, I will not be reading the csv file that will allow the cells below to run. For more information, please refer to the README.md"
   ]
  },
  {
   "cell_type": "markdown",
   "metadata": {},
   "source": [
    "I wanted to have more elegant code, but I figured brute force would be easier to understand. With brute force, you'll also be able to understand what is happening step by step, as well as identify any errors. \n",
    "\n",
    "Every sheet in the final excel file will have a different set of information. The requested format was to have multiple \"big picture\" sheets, and then focus in on some of the desired issues. This is acquired by assigning conditions to variables, and then appending those variables (dataframes) to seperate excel sheets. \n",
    "\n",
    "Common errors to check for are as follows:\n",
    "Make sure when calling for columns, that there are no unnecessary spaces, like 'First  Name' (which has two spaces between First and Name. \n",
    "\n",
    "Ensure that the dates are stored in MM/DD/YYYY format. This needs to be the format throughout the file in order to do proper analysis. \n",
    "\n",
    "\n",
    "Few tips: \n",
    "Shift + Enter runs the current cell and moves you down to the next one. \n",
    "\n",
    "This notebook is formatted using Markdowns (used to explain and format) and code cells (used to run code).\n",
    "\n",
    "This notebook has everything seperated. If you'd like to just run one cell, please refer to the other notebook, where everything is in a function. If there is an error with that function, please refer to this notebook and identify where the issue lays -- if you can't figure out the error code in the other notebook. \n",
    "\n",
    "Ensure that your file names are formatted for windows. ('\\\\Users\\\\filelocation\\\\filename.csv). Ensure that the append_to_df function is also formatter for windows ('\\\\Users\\\\filelocation\\\\filename.xlsx)."
   ]
  },
  {
   "cell_type": "markdown",
   "metadata": {},
   "source": [
    "We need to import two libraries in order to use some of the utilities that they provide. \n",
    "These utilities will prove to be useful in cleaning our data, as you will see below. "
   ]
  },
  {
   "cell_type": "code",
   "execution_count": 9,
   "metadata": {},
   "outputs": [],
   "source": [
    "import pandas as pd\n",
    "import numpy as np"
   ]
  },
  {
   "cell_type": "markdown",
   "metadata": {},
   "source": [
    "We are now creating a function that allows us to transfer the information that we have into excel spreadsheets. When calling the function, you must make sure that all of your arguments are accounted for in order for it to work properly.\n",
    "\n",
    "filename - must be an actual location on the device. Since it is asking for the filename, don't forget to end the location with .xlsx to represent excel files. \n",
    "\n",
    "df - represents the DataFrame that you'd like to transfer to the excel sheet. We are saving all of our DataFrames into variables, so this section would require you to only input the variable name.\n",
    "\n",
    "sheet_name - asks for the name that you'd like the sheet to have. If you have two instances of the same sheet, both records that you specify will be stored there. \n",
    "For example:\n",
    "append_df_to_excel('/Users/Carlos/Desktop/Vendor_List_Exceptions.xlsx', INVALID_SOCIAL, sheet_name='Invalid_Social')\n",
    "append_df_to_excel('/Users/Carlos/Desktop/Vendor_List_Exceptions.xlsx', NO_SOCIAL, sheet_name = 'Invalid_Social')\n",
    "\n",
    "In this scenario, both variables INVALID_SOCIAL and NO_SOCIAL are being stored in the file Vendor_List_Exceptions.xlsx, and they will both be stored in the sheet name Invalid Social. \n",
    "For the sake of simplicity and so that everyone who receives this file can understand properly, each variable will be assigned to a different sheet. \n",
    "\n",
    "startrow and truncate_sheet are not going to be used, although it could be. These have default values (None and False respectively), meaning you don't need to input anything for them. Similarly, sheet_name has a default value as well (Sheet1), meaning if you don't input a sheet name, it'll store the information into Sheet1. "
   ]
  },
  {
   "cell_type": "code",
   "execution_count": 10,
   "metadata": {},
   "outputs": [],
   "source": [
    "def append_df_to_excel(filename, df, sheet_name = 'Sheet1', startrow = None, \n",
    "                       truncate_sheet = False, **to_excel_kwargs):\n",
    "    from openpyxl import load_workbook\n",
    "    \n",
    "    if 'engine' in to_excel_kwargs:\n",
    "        to_excel_kwargs.pop('engine')\n",
    "        \n",
    "    writer = pd.ExcelWriter(filename, engine = 'openpyxl')\n",
    "    \n",
    "    try:\n",
    "        writer.book = load_workbook(filename)\n",
    "        if startrow is None and sheet_name in writer.book.sheetnames:\n",
    "            startrow = writer.book[sheet_name].max_row\n",
    "        \n",
    "        if truncate_sheet and sheet_name in writer.book.sheetnames:\n",
    "            idx = writer.book.sheetnames.index(sheet_name)\n",
    "            writer.book.remove(writer.book.worksheets[idx])\n",
    "            writer.book.create_sheet(sheet_name, idx)\n",
    "            \n",
    "        writer.sheets = {ws.title:ws for ws in writer.book.worksheets}\n",
    "        \n",
    "    except FileNotFoundError:\n",
    "        pass\n",
    "    \n",
    "    if startrow is None:\n",
    "        startrow = 0\n",
    "        \n",
    "    df.to_excel(writer, sheet_name, startrow = startrow, **to_excel_kwargs)\n",
    "    \n",
    "    writer.save()"
   ]
  },
  {
   "cell_type": "markdown",
   "metadata": {},
   "source": [
    "The cell below is what we're using to read the initial excel file that you will receive from Gili's department. By storing that excel sheet into a variable, we can then begin cleaning it and doing our analysis. \n",
    "\n",
    "In the first cell we names the pandas library as pd. The ability to read_csv is exclusive to the pandas library, so we have to call it, and then call what we want it to do. pd.read_csv does exactly that. We're going to write the directory of where the file is located, the name of the file, and the type of file it is. read_csv can only read csv files, which is very important. Csv files are great because it removes a lot of formatting such as merged cells, and really simplifies the data. \n",
    "\n",
    "This specific instance is calling the NYF file. Note that you will need to change this to read the JASA and SELFHELP files as well. \n",
    "\n",
    "'#' is used to comment out code, meaning that code selection won't run. \n",
    "\n",
    "If for some reason, the regular pd.read_csv file is not working, don't be alarmed. Sometimes the encoding needs to be changed in order for it to be read. If that is the case, use the commented code instead of the initial one. "
   ]
  },
  {
   "cell_type": "code",
   "execution_count": 11,
   "metadata": {},
   "outputs": [],
   "source": [
    "#VENDOR_LIST = pd.read_csv('/Users/filelocation/filename.csv')\n",
    "VENDOR_LIST = pd.read_csv('/Users/filelocation/filename.csv', encoding='latin1')"
   ]
  },
  {
   "cell_type": "markdown",
   "metadata": {},
   "source": [
    "This new DataFrame MONTH_ERROR might be a bit tricky to understand. \n",
    "\n",
    "MONTH_ERROR is the variable that we are saving the end result of this whole thing to. \n",
    "\n",
    "VENDOR_LIST['More than 6 months since status date?'] will show you the values of that one column. If you just run that part, you'll get a result in a format called a Series. It is super simplified and only shows that one column. If you'd like to see that same result in the form of a dataframe, you would need to write it in the format\n",
    "VENDOR_LIST[VENDOR_LIST['More than 6 months since status date?']]\n",
    "\n",
    ".apply() is a popular function that applies what is in the parentheses to what's on the left hand side of the function. \n",
    "\n",
    "lambda x: x == '#VALUE!' is meant to select all records in the column that are equal to '#VALUE!'. Notice that when we are saving the information to a variable, it is only ONE = sign. If we are using a condition as a check, we are using TWO = signs. \n",
    "\n",
    "As I mentioned before, MONTH_ERROR will have all of the records where in the column 'More than 6 months since status date?', there is an entry that says '#VALUE!'\n",
    "\n",
    "We don't touch MONTH_ERROR for the rest of this project, aside from when we export it later. It's purpose of finding the records that say '#VALUE!' has been fulfilled and we don't need it anymore. "
   ]
  },
  {
   "cell_type": "code",
   "execution_count": 12,
   "metadata": {},
   "outputs": [],
   "source": [
    "MONTH_ERROR = VENDOR_LIST[VENDOR_LIST['More than 6 months since status date?'].apply(lambda x: x == '#VALUE!')]"
   ]
  },
  {
   "cell_type": "markdown",
   "metadata": {},
   "source": [
    "Here is where we begin manipulating the variable VENDOR_LIST, which is what has all of the information from the excel sheet that we imported. \n",
    "\n",
    "On the variable VENDOR_LIST, we are using the .replace() function, which allows us to change certain values into something else. In this case, we are replacing all of the different ways that people write None and empty spaces, as well as all of the records that say '#VALUE!' into something called np.nan. This is using the numpy library that we imported above. np.nan is the equivalent of a Null or NaN value. The word Null or NaN is not the same as the np.nan value, since Null or NaN can be interpreted as a word. the np.nan value officially makes it into an empty value. \n",
    "\n",
    "We store all of the types of writing out None in brackets [], to ensure that every one of those words are processed. \n",
    "Finally, you see that we say inplace = False. If this were True, then the change would happen immediately to the VENDOR_LIST variable. Since we are saving this new version of the DataFrame to the VENDOR_LIST_FULL variable, it isn't necessary for inplace to be True. This is somewhat safer too, in case if there's a mistake somewhere, you still have your original verson of VENDOR_LIST. If inplace were True, you would not have that original version of VENDOR_LIST, unless if you reran the cell above that was used to create VENDOR_LIST. "
   ]
  },
  {
   "cell_type": "code",
   "execution_count": 13,
   "metadata": {},
   "outputs": [],
   "source": [
    "VENDOR_LIST_FULL = VENDOR_LIST.replace(['None', 'nan', '', ' ', 'NONE',\n",
    "                                        'na', 'NA', 'unk', 'unknown',\n",
    "                                        'UNKNOWN', 'UNK', '#VALUE!'], np.nan, inplace = False)"
   ]
  },
  {
   "cell_type": "markdown",
   "metadata": {},
   "source": [
    "DataFrame['Column'] is general format to call for a specific column as a series. In the instance below, we are getting the column 'More than 6 months since status date?' from the DataFrame VENDOR_LIST_FULL. If we were to solely run DataFrame['Column'], you'll get a Series, as I mentioned before. In this case however, we only want to change the values of that column to something else, so we don't need to format it as a DataFrame.\n",
    "\n",
    "Notice that there is an equal sign in the middle of the code. This exists because we are changing the values of that column. We are making the new version of 'More than 6 months since status date?' equal the same values, but as a float type. Originally, they were of type object, which is okay, but we need it in a number format in order for us to do some of our future analysis. As you might have guessed, .astype(type) allows you to change the fundamental type of the data. \n",
    "\n",
    "If this is confusing, try to think of it like this:\n",
    "\n",
    "x = 123\n",
    "\n",
    "x = x.astype(float), where x starts off as the number 123, and at the end of it becomes 123.0, and we are storing 123.0 to the variable x\n",
    "\n",
    "'#VALUE!' would normally be represented as a string, but since earlier we specified that we wanted it to be seen as a NaN value, we won't have any issues with the conversion to float."
   ]
  },
  {
   "cell_type": "code",
   "execution_count": 14,
   "metadata": {},
   "outputs": [],
   "source": [
    "VENDOR_LIST_FULL['More than 6 months since status date?'] = VENDOR_LIST_FULL['More than 6 months since status date?'\n",
    "                                                                            ].astype(float)"
   ]
  },
  {
   "cell_type": "markdown",
   "metadata": {},
   "source": [
    "In the cell below, we are making a new variable names VALUE_COUNT. This will not be a DataFrame. \n",
    "We are calling for the column 'Living/Domicile Statue' (becasue remember DataFrame['Column'] is used to focus on specific columns) and are using the .value_counts() function to see the breakdown for that column.\n",
    "\n",
    "This will explain to you how many clients are listed as Deceased, Incarcerated, Nursing Home, etc. "
   ]
  },
  {
   "cell_type": "code",
   "execution_count": 15,
   "metadata": {},
   "outputs": [],
   "source": [
    "VALUE_COUNT = VENDOR_LIST['Living/Domicile Status'].value_counts()"
   ]
  },
  {
   "cell_type": "markdown",
   "metadata": {},
   "source": [
    "Similar to the cell above, we are using the .value_counts() function on a column again. This time, we are checking for the various List Types (Discharge Processing / Active).\n",
    "\n",
    ".value_counts() is also useful to check to see if there are any common typos with entries. For example, the user can input multiple records of active (lowercase a) instead of Active, and .value_counts() can help you realize how many times this happens."
   ]
  },
  {
   "cell_type": "code",
   "execution_count": 16,
   "metadata": {},
   "outputs": [],
   "source": [
    "LIST_TYPE = VENDOR_LIST_FULL['List Type'].value_counts()"
   ]
  },
  {
   "cell_type": "markdown",
   "metadata": {},
   "source": [
    "Missing_Demo is going to cover a large amount of information. \n",
    "\n",
    "Notice that this is in DataFrame format (DataFrame[DataFrame[]]).\n",
    "Here, we are using the .loc() function, to find every instance of values that .isna() (is NaN) in .any(axis = 1) (in any column. Axis = 1 represents columns, Axis = 0 represents rows) in a certain range. \n",
    "\n",
    ".loc[: , :'Date Since'] uses a technique names slicing to select \n",
    "[EVERY ROW (shown with the colon) , EVERY COLUMN (until -- also shown with the colon) 'Date Since']\n",
    "Normally is it [row, column]. With slicing, : for row will focus on selecting every row. the comma seperates row and column. The next : will focus on selecting every column. By placing a column name at the right hand side of the colon, we are indicating that we want every column UP TO 'Date Since'. \n",
    "\n",
    "VENDOR_LIST_FULL[VENDOR_LIST_FULL.loc[:, :'Date Since']] can be used to solely select those values. We then use the functions .isna() and .any() to add more conditions. \n",
    "\n",
    ".isna() checks for all values that are empty. This however needs a bit of specification. It could check for rows or columns that are entirely empty, or rows and columns that have any number of empty values in them. \n",
    "This is why we use .any(), to emphasize that we want the row and column with any number of empty values, and we want it done column wise, not row wise (axis = 1). \n",
    "\n",
    "If you open the original excel sheet, you'd see that there are two sections, a blue and orange section. This one piece of code will select every entry that has an empty value in the entire blue section, indicating that the Vendors who send us these forms need to add information to these clients. "
   ]
  },
  {
   "cell_type": "code",
   "execution_count": 17,
   "metadata": {},
   "outputs": [],
   "source": [
    "Missing_Demo = VENDOR_LIST_FULL[VENDOR_LIST_FULL.loc[:, :'Date Since'].isna().any(axis = 1)] "
   ]
  },
  {
   "cell_type": "markdown",
   "metadata": {},
   "source": [
    "In the original excel sheet, Social Security Numbers follow the XXX-XX-XXXX format. This is a total of 11 characters, including the dashes. INVALID_SOCIAL checks for every entry where the length of characters is less than 11 characters. In order to do this, we must first look at the information as if it were a string, and not an object (which is the data type that it currently is. To get a better look at this, run VENDOR_LIST_FULL.info(), and you'll see what type of data each column is). \n",
    "\n",
    "We are converting every entry in the column ['S.S.#.'] into a string, to then check if there are less than 11 characters in the entry. Conveniently, this will also highlight entries that have 'No Social' listed, since No Social is only 9 characters. This method can not select cases that have NO SOCIAL, since we can't convert an empty value into a string. We need to do something else to check for empty socials. "
   ]
  },
  {
   "cell_type": "code",
   "execution_count": 18,
   "metadata": {},
   "outputs": [],
   "source": [
    "INVALID_SOCIAL = VENDOR_LIST_FULL[VENDOR_LIST_FULL['S.S.#.'].str.len() < 11]"
   ]
  },
  {
   "cell_type": "markdown",
   "metadata": {},
   "source": [
    "Here we use .loc again to find every entry in the 'S.S.#.' column in the VENDOR_LIST_FULL DataFrame that .isnull(). By following the VENDOR_LIST_FULL[VENDOR_LIST_FULL[]] format, we are saving the new variable as a DataFrame, saving all of the other columns of that DataFrame, allowing the user to also see information, such as Name, DOB, etc. \n",
    "\n",
    ".isnull() and .isna() are essentially the same thing. They do the same thing, so don't worry about the difference. It is really a matter of convenience and preference. "
   ]
  },
  {
   "cell_type": "code",
   "execution_count": 21,
   "metadata": {},
   "outputs": [],
   "source": [
    "NO_SOCIAL = VENDOR_LIST_FULL.loc[VENDOR_LIST_FULL['S.S.#.'].isnull()]"
   ]
  },
  {
   "cell_type": "markdown",
   "metadata": {},
   "source": [
    "LDS_DECEASED is in DataFrame format, and it checks for all of the clients who have Deceased for their Living/Domicile Status. Notice that we are using == this time around, because we are checking for a condition. This can also be done using .loc, but again, its all about preference. "
   ]
  },
  {
   "cell_type": "code",
   "execution_count": 22,
   "metadata": {},
   "outputs": [],
   "source": [
    "LDS_DECEASED = VENDOR_LIST_FULL[VENDOR_LIST_FULL['Living/Domicile Status']=='Deceased']"
   ]
  },
  {
   "cell_type": "markdown",
   "metadata": {},
   "source": [
    "There will be instances where the cells of code will build off of earlier cells. In this case, we are building off of the LDS_DECEASED DataFrame that we made, and checking for another criteria -- if the column Current Discharge Status has any records that say Submit D/C Request to HRA. Code is usually split up into section to ensure that whoever looks over it can understand what is happening."
   ]
  },
  {
   "cell_type": "code",
   "execution_count": 23,
   "metadata": {},
   "outputs": [],
   "source": [
    "LDS_DECEASED_SUB = LDS_DECEASED[LDS_DECEASED['Current Discharge Status'] == 'Submit D/C Request to HRA']"
   ]
  },
  {
   "cell_type": "markdown",
   "metadata": {},
   "source": [
    "Similar to LDS_DECEASED_SUB, this next cell is building off of LDS_DECEASED. Also, similar to Missing_Demo from above, we are utilizing a mixture of .loc and .isna(). Not similar to Missing Demo, we are using .all(axis = 1) instead of .any(axis = 1). \n",
    "\n",
    "As a reminder, in the DataFrame LDS_DECEASED, we are locating all of the rows (indicated by the first colon). \n",
    "Then, using slicing, we are specifying that we also want every column between 'Petition Date' and 'Vendor's Previous Comments'\n",
    "With the use of the .isna() function, we are looking for NaN values. \n",
    "To build on that, with the .all(axis = 1) function, we are looking for all instances that the entire record is empty, column-wise (represented by the axis = 1).\n",
    "\n",
    "If you look on the excel sheet, it'll be the equivalent of every record of a deceased client that has columns Z to AE empty (which are where you can find all of the Discharge information. These are clients that should have some type of discharge information, given that they're deceased. If they have no information, the Vendor's need to update this ASAP."
   ]
  },
  {
   "cell_type": "code",
   "execution_count": 24,
   "metadata": {},
   "outputs": [],
   "source": [
    "LDS_NO_DISCHARGE = LDS_DECEASED[LDS_DECEASED.loc[: , 'Petition Date':\"Vendor's Previous Comments\"\n",
    "                                                ].isna().all(axis = 1)]"
   ]
  },
  {
   "cell_type": "markdown",
   "metadata": {},
   "source": [
    "In the following cell, we are making a few Lists. Lists are exclusive to Python and are excellent at holding different data types. In this case, we are using it to hold various strings. \n",
    "\n",
    "When the Vendors are filling out their excel files, they are supposed to follow through and select the information via drop down menus. Unfortunately, this is not always the case, and they tend to either copy and paste information, use VLOOKUP (which removes formatting) or manually input the information that is needed. As a result, there will be the occassional typo for certain fields. We will be using the Lists below to properly select the correct wording, as well as select the cases that don't have the correct wording. \n",
    "\n",
    "You'll see some \\ in the cell below. This just signifies that the information will go onto the next line. This is used to make it look a bit neater. \n",
    "\n",
    "The Lists below are meant to show specific presentations. \n",
    "Current_Discharge Status shows the proper Current Discharge Statuses, following the drop down menus on the excel sheet.\n",
    "Living_Domicile_Status shows the proper Living Domicile Status in accordance to the drop down menus.\n",
    "L_D_S is meant to make a list of the types of statuses that represent Institutionalized Clients.\n",
    "LDStatus focuses on all Living and Domicile Statuses not including Resides in the Community.\n",
    "LDS_WO_DEAD focuses on all Living and Domicile Statuses not including Deceased."
   ]
  },
  {
   "cell_type": "code",
   "execution_count": 26,
   "metadata": {},
   "outputs": [],
   "source": [
    "Current_Discharge_Status = ['Clt back in the community', 'Clt scheduled to return to the community within 6 months of admission',\\\n",
    "                            'Clt returned back to NYC', 'Successor guardian appointed FA to be submitted', 'Submit D/C Request to HRA',\\\n",
    "                            'Judge denied D/C', 'Successor guardian not yet commissioned', 'Vendor not seeking discharge', 'Clt discharged',\\\n",
    "                            'Pending Court Approval']\n",
    "    \n",
    "Living_Domicile_Status = ['Deceased', 'Adult Home', 'Assisted Living', 'Supportive Housing', 'Hospital', 'Shelter',\\\n",
    "                          'Nursing Home-Perm', 'Nursing Home-Temp', 'Street Homeless', 'Incarcerated',\\\n",
    "                          'Resides in Community', 'Whereabouts unknown', 'Out of Jurisdiction', 'Substance abuse facility',\\\n",
    "                          'OPWDD facility', 'Congregate Care Facility']\n",
    "    \n",
    "L_D_S = ['Adult Home', 'Assisted Living', 'Supportive Housing', 'Hospital', 'Shelter',\\\n",
    "                          'Nursing Home-Perm', 'Nursing Home-Temp', 'Incarcerated','OPWDD facility', 'Congregate Care Facility']\n",
    "    \n",
    "LDStatus = ['Deceased', 'Adult Home', 'Assisted Living', 'Supportive Housing', 'Hospital', 'Shelter',\\\n",
    "                          'Nursing Home-Perm', 'Nursing Home-Temp', 'Street Homeless', 'Incarcerated',\\\n",
    "                          'Whereabouts unknown', 'Out of Jurisdiction', 'Substance abuse facility',\\\n",
    "                          'OPWDD facility', 'Congregate Care Facility']\n",
    "        \n",
    "LDS_WO_DEAD = ['Adult Home', 'Assisted Living', 'Supportive Housing', 'Hospital', 'Shelter',\\\n",
    "                          'Nursing Home-Perm', 'Nursing Home-Temp', 'Street Homeless', 'Incarcerated',\\\n",
    "                          'Resides in Community', 'Whereabouts unknown', 'Out of Jurisdiction', 'Substance abuse facility',\\\n",
    "                          'OPWDD facility', 'Congregate Care Facility']"
   ]
  },
  {
   "cell_type": "markdown",
   "metadata": {},
   "source": [
    "If there are cells with multiple variables in it, chances are, the final result will build off of the prior variables in that cell. If that is the case, I will put them all together so that we can know they are connected.\n",
    "\n",
    "Now is when we begin to focus on the lists that we have above.\n",
    "LDSWODEAD is going to be in DataFrame format, and using the .isin() function, we are checking if the entries for 'Living/Domicile Status' match what is in the List. \n",
    "\n",
    "For example, if we have the following entries:\n",
    "Adult Home\n",
    "ADULT HOME\n",
    "Assisted Living\n",
    "Shelter\n",
    "\n",
    "And we then run the code below, we will get the result:\n",
    "Adult Home\n",
    "Assisted Living\n",
    "Shelter\n",
    "because we don't have ADULT HOME in our list. Since it is in DataFrame format, it will carry over the other information as well, such as client name and SSN.\n",
    "\n",
    "The next session makes the variable HRA_DECEASED_NULL, which uses information that we covered before. We are checking the column 'HRA Approved (Y/N)' for empty values using the .isna() function."
   ]
  },
  {
   "cell_type": "code",
   "execution_count": 27,
   "metadata": {},
   "outputs": [],
   "source": [
    "LDSWODEAD= VENDOR_LIST_FULL[VENDOR_LIST_FULL['Living/Domicile Status'].isin(LDS_WO_DEAD)]\n",
    "HRA_DECEASED_NULL = LDSWODEAD[LDSWODEAD['HRA Approved (Y/N)'].isna()]"
   ]
  },
  {
   "cell_type": "markdown",
   "metadata": {},
   "source": [
    "Similar to the LDSWODEAD cell, we are using the Living_Domicile_Status list to filter out the VENDOR_LIST_FULL DataFrame. In the cell below, we are doing something different though. The ~ is meant to do the opposite of what is indicated. \n",
    "\n",
    "In the prior cell, we were checking for records that meet the criteria of the List. \n",
    "In the cell below, we are checking for records that DON'T meet that criteria, which is signified by the ~.\n",
    "\n",
    "Using our earlier example:\n",
    "Adult Home\n",
    "ADULT HOME\n",
    "Assisted Living\n",
    "Shelter\n",
    "\n",
    "We will get the result:\n",
    "ADULT HOME"
   ]
  },
  {
   "cell_type": "code",
   "execution_count": 28,
   "metadata": {},
   "outputs": [],
   "source": [
    "LDS_ERROR = VENDOR_LIST_FULL[~VENDOR_LIST_FULL['Living/Domicile Status'].isin(Living_Domicile_Status)] "
   ]
  },
  {
   "cell_type": "markdown",
   "metadata": {},
   "source": [
    "Using the same format as the cell above, CDS_ERROR is checking for cases that are not properly recorded, using the drop down selections that are specified in the Current_Discharge_Status list."
   ]
  },
  {
   "cell_type": "code",
   "execution_count": 29,
   "metadata": {},
   "outputs": [],
   "source": [
    "CDS_ERROR = VENDOR_LIST_FULL[~VENDOR_LIST_FULL['Current Discharge Status'].isin(Current_Discharge_Status)] "
   ]
  },
  {
   "cell_type": "markdown",
   "metadata": {},
   "source": [
    "Following the same format, we're checking for cases in the Living/Domicile Status column that are in the L_D_S list. Similar example to LDSWODEAD, just checking for different criteria. "
   ]
  },
  {
   "cell_type": "code",
   "execution_count": 30,
   "metadata": {},
   "outputs": [],
   "source": [
    "LDS_removed = VENDOR_LIST_FULL[VENDOR_LIST_FULL['Living/Domicile Status'].isin(L_D_S)]"
   ]
  },
  {
   "cell_type": "markdown",
   "metadata": {},
   "source": [
    "The following section is building off of LDS_removed. \n",
    "LDS_removed focuses on all of the cases that are institutionalized. \n",
    "We are now checking the status date of these institutionalized cases. Since we already changed 'More than 6 months since status date?' into a float value, we can use comparisons such as greater than or less than to filter it even more. We are checking for cases that are greater than 180 days AND less than 365 days. When using the & operator, we need to repeat our area of focus, which is why we rewrite LDS_removed['More than 6 months since status date?'].\n",
    "\n",
    "Once we have that selection, we are using .loc and slicing like in earlier cells, and are looking for records that have empty values for the discharge section, columnwise. \n",
    "\n",
    "If a client is institutionalized, and have been in that institution for more than 6 months, yet less than a year, they should most likely be eligible for discharge, so we'd like to check the status of that. If they are missing discharge information (Petition Date : Vendor's Previous Comments -- Alternatively, columnz Z-AE on excel), it means there is no discharge processing, and we'd like to know why. "
   ]
  },
  {
   "cell_type": "code",
   "execution_count": 31,
   "metadata": {},
   "outputs": [],
   "source": [
    "LDS180 = LDS_removed[(LDS_removed['More than 6 months since status date?'] > 180) & (LDS_removed['More than 6 months since status date?'] < 365)]\n",
    "LDS180_FOCUS = LDS180[LDS180.loc[: , 'Petition Date':\"Vendor's Previous Comments\"].isna().all(axis = 1)]"
   ]
  },
  {
   "cell_type": "markdown",
   "metadata": {},
   "source": [
    "In the cell below, we are doing the same thing we did previously, but we are checking for cases that are more than 365 days, because these are extreme cases that should be checked immediately. "
   ]
  },
  {
   "cell_type": "code",
   "execution_count": 32,
   "metadata": {},
   "outputs": [],
   "source": [
    "LDS365 = LDS_removed[LDS_removed['More than 6 months since status date?'] >= 365]\n",
    "LDS365_FOCUS = LDS365[LDS365.loc[: , 'Petition Date':\"Vendor's Previous Comments\"].isna().all(axis = 1)]"
   ]
  },
  {
   "cell_type": "markdown",
   "metadata": {},
   "source": [
    "Using the lists, we are filtering the cases that were input properly. Once we have all of those records, we are checking if any of the 'Date Since' values are empty. \n",
    "\n",
    "LDStatus represents all of the cases that are not Residing in the Community. These should all have a Data Since specification (for example, what was the Date Since the client was institutionalized). If they don't, they are flagged with this code."
   ]
  },
  {
   "cell_type": "code",
   "execution_count": 33,
   "metadata": {},
   "outputs": [],
   "source": [
    "LDStatusdf= VENDOR_LIST_FULL[VENDOR_LIST_FULL['Living/Domicile Status'].isin(LDStatus)]\n",
    "LDSDateNull = LDStatusdf[LDStatusdf['Date Since'].isna()]"
   ]
  },
  {
   "cell_type": "markdown",
   "metadata": {},
   "source": [
    "This next section is built off of LDStatusdf, which was built off of LDStatus. I didn't put them together because this one is checking for something different. \n",
    "\n",
    "We are checking for the records in the column 'Current Discharge Status' that are equal to 'Vendor not seeking discharge'. Once we have those, we are checking to see if the 'More than 6 months since status date?' is greater than or equal to 365. \n",
    "\n",
    "For all of the records that are properly selected (LDStatusdf), if the vendor is not seeking discharge, we'd like to know how long its been since their status date. If it is longer than a year, we'd like to know why. "
   ]
  },
  {
   "cell_type": "code",
   "execution_count": 34,
   "metadata": {},
   "outputs": [],
   "source": [
    "LDStemp = LDStatusdf[LDStatusdf['Current Discharge Status'] == 'Vendor not seeking discharge']\n",
    "LDS_NoDIS_1YR = LDStemp[LDStemp['More than 6 months since status date?'] >= 365]"
   ]
  },
  {
   "cell_type": "markdown",
   "metadata": {},
   "source": [
    "This following cell checks for cases that have a Yes in the Petition Filed column, yet do not have a Petition Date (checked with the .isna() function). \n",
    "\n",
    "NOTICE there is a couple of spaces after Filed in the column name. 'Petition Filed  ' is not the same as 'Petition Filed'. That is an error with the excel file. It could be fixed with a function, such as str.strip(), but I figured it might be better to leave it like this for educational purposes. "
   ]
  },
  {
   "cell_type": "code",
   "execution_count": 35,
   "metadata": {},
   "outputs": [],
   "source": [
    "YPetition = VENDOR_LIST_FULL[VENDOR_LIST_FULL['Petition Filed  '] == 'Yes']\n",
    "YPetitionNA = YPetition[YPetition['Petition Date'].isna()]"
   ]
  },
  {
   "cell_type": "markdown",
   "metadata": {},
   "source": [
    "YPetitionUrgent located all of the rows in the columns Hearing Date to Comments for Current Discharge Status that are empty. If a client has filed a petition, but they do not have discharge information, we'd like to know what is going on with that discharge. "
   ]
  },
  {
   "cell_type": "code",
   "execution_count": 36,
   "metadata": {},
   "outputs": [],
   "source": [
    "YPetitionUrgent = YPetition[YPetition.loc[: , 'Hearing Date' : 'Comments for Current Discharge Status'].isna().all(axis = 1)]"
   ]
  },
  {
   "cell_type": "markdown",
   "metadata": {},
   "source": [
    "Similar to YPetition, this shows all cases that have NOT filed a Petition and have a value in the Petition Date (checked using .notna())\n",
    "Again, note that Petition Filed has two spaces after its name. "
   ]
  },
  {
   "cell_type": "code",
   "execution_count": 37,
   "metadata": {},
   "outputs": [],
   "source": [
    "NPetition = VENDOR_LIST_FULL[VENDOR_LIST_FULL['Petition Filed  '] == 'No']\n",
    "NPetitionVAL = NPetition[NPetition['Petition Date'].notna()]"
   ]
  },
  {
   "cell_type": "markdown",
   "metadata": {},
   "source": [
    "The next cell focuses on clients who have Clt discharged as a Current Discharge Status, yet have an empty value for the Discharge order date. "
   ]
  },
  {
   "cell_type": "code",
   "execution_count": 38,
   "metadata": {},
   "outputs": [],
   "source": [
    "CD = VENDOR_LIST_FULL[VENDOR_LIST_FULL['Current Discharge Status'] == 'Clt discharged']\n",
    "CD_Null_Date = CD[CD['D/C order Date'].isna()]"
   ]
  },
  {
   "cell_type": "markdown",
   "metadata": {},
   "source": [
    "Cases where they have selected Out of Jurisdiction as their Living/Domicile Status, but have an empty current discharge status. \n",
    "The question we are focusing on is: How are they out of NYC, yet are not discharged?"
   ]
  },
  {
   "cell_type": "code",
   "execution_count": 39,
   "metadata": {},
   "outputs": [],
   "source": [
    "Jurisdictiondf = VENDOR_LIST_FULL[VENDOR_LIST_FULL['Living/Domicile Status'] == 'Out of Jurisdiction']\n",
    "JCDS_Null = Jurisdictiondf[Jurisdictiondf['Current Discharge Status'].isna()]"
   ]
  },
  {
   "cell_type": "markdown",
   "metadata": {},
   "source": [
    "Checking for the condition 'Nursing Home-Temp' in the Living/Domicile Status column. \n",
    "Followed by a search for all cases that have an empty record for Days since HRA's Approval. \n",
    "Finally, checking if the client has more than 6 months, yet less than 1 year for 'More than 6 months since status date?'\n",
    "\n",
    "If the client is temporarily in the nursing home, and HRA has not approved their discharge, this code highlights cases where it has been more than 6 months and less than 1 year since they were placed. That is an abnormally large amount of time, which merits a red flag."
   ]
  },
  {
   "cell_type": "code",
   "execution_count": 40,
   "metadata": {},
   "outputs": [],
   "source": [
    "NHT = VENDOR_LIST_FULL[VENDOR_LIST_FULL['Living/Domicile Status'] == 'Nursing Home-Temp']\n",
    "NHT_HRA_NULL = NHT[NHT[\"Days since HRA's Approval\"].isna()]\n",
    "NHT_DATE_180 = NHT_HRA_NULL[(NHT_HRA_NULL['More than 6 months since status date?'] >= 180) & (NHT_HRA_NULL['More than 6 months since status date?'] < 365)]"
   ]
  },
  {
   "cell_type": "markdown",
   "metadata": {},
   "source": [
    "This code is based off of the NHT_HRA_NULL section above, and is checking for the 'More than 6 months since status date?' is greater or equal to 1 year (unlike the code above that checks for 180 to 365 days). \n",
    "\n",
    "Once we have collected these extreme records, using .loc and slicing, we are checking for empty discharge information, because then we know that there is no work being done on these clients, and we definitely need to investigate. "
   ]
  },
  {
   "cell_type": "code",
   "execution_count": 41,
   "metadata": {},
   "outputs": [],
   "source": [
    "NHT_DATE_365 = NHT_HRA_NULL[NHT_HRA_NULL['More than 6 months since status date?'] >= 365]\n",
    "NHT_365_NO_PROGRESS = NHT_DATE_365[NHT_DATE_365.loc[:, 'Date Discharge Request Submitted to HRA':'Comments for Current Discharge Status'].isna().all(axis = 1)]"
   ]
  },
  {
   "cell_type": "markdown",
   "metadata": {},
   "source": [
    "This code highlights the instances where the Judge denied Discharge is the value in the Current Discharge Status column. Once we have those records, we are checking for empty values in the Comments for Current Discharge Status. \n",
    "\n",
    "If the Judge denied discharge, the vendor is supposed to explain why it was denied in the comments section. If it is empty, there is no explanation, so we need to ask them what is going on."
   ]
  },
  {
   "cell_type": "code",
   "execution_count": 42,
   "metadata": {},
   "outputs": [],
   "source": [
    "DENIED = VENDOR_LIST_FULL[VENDOR_LIST_FULL['Current Discharge Status'] == 'Judge denied D/C']\n",
    "DENIED_NA = DENIED[DENIED['Comments for Current Discharge Status'].isna()]"
   ]
  },
  {
   "cell_type": "markdown",
   "metadata": {},
   "source": [
    "We begin the next cell by checking if 'HRA Approved (Y/N)' is equal to Yes for the entries in the excel sheet. \n",
    "Once we have this fundamental DataFrame, we use .loc and slicing to check for empty entries for the columns Petition Filed to D/C order Date. \n",
    "After that, we begin checking for the Day's since HRA's Approval using different conditions. \n",
    "HRA120 checks between 60 and 120 days.\n",
    "HRA180 checks for 120-180 days.\n",
    "HRA365 checks for 180-365 days. \n",
    "HRA_SUBMIT_HRA checks for cases that have a Submit D/C Request to HRA entry and follows the criteria indiacted above before checking for the different Days since HRA's Approval conditions. "
   ]
  },
  {
   "cell_type": "code",
   "execution_count": 43,
   "metadata": {},
   "outputs": [],
   "source": [
    "HRA_YES = VENDOR_LIST_FULL[VENDOR_LIST_FULL[\"HRA Approved (Y/N)\"] == 'Yes']\n",
    "HRA = HRA_YES[HRA_YES.loc[:, 'Petition Filed  ':'D/C order Date'].isna().all(axis = 1)]\n",
    "HRA120 = HRA[(HRA[\"Days since HRA's Approval\"] >= 60) & (HRA[\"Days since HRA's Approval\"]<= 120)]\n",
    "#YES HRA Approval and days since 60 - 120 and nothing columns Z - AC\n",
    "HRA180 = HRA[(HRA[\"Days since HRA's Approval\"] >= 120) & (HRA[\"Days since HRA's Approval\"]<= 180)]\n",
    "#YES HRA Approval and days since 120 - 180 and nothing columns Z - AC\n",
    "HRA365 = HRA[(HRA[\"Days since HRA's Approval\"] >= 180) & (HRA[\"Days since HRA's Approval\"]<= 365)]\n",
    "#YES HRA Approval and days since 180 - 365 and nothing columns Z - AC\n",
    "HRA_SUBMIT_HRA = HRA[HRA['Current Discharge Status'] == 'Submit D/C Request to HRA']\n",
    "#YRS HRA Approval AND CDS = Submit DC Request to HRA"
   ]
  },
  {
   "cell_type": "markdown",
   "metadata": {},
   "source": [
    "This chunk of code brute forces selection criteria and assigns it to different variables. \n",
    "These are the collection of different Current Discharge Status, and will be used by the office as a filter. "
   ]
  },
  {
   "cell_type": "code",
   "execution_count": 44,
   "metadata": {},
   "outputs": [],
   "source": [
    "CLT_COMMUNITY = VENDOR_LIST_FULL[VENDOR_LIST_FULL['Current Discharge Status'] == 'Clt back in the community']\n",
    "CLT_COMMUNITY_6MNTHS = VENDOR_LIST_FULL[VENDOR_LIST_FULL['Current Discharge Status'] == 'Clt scheduled to return to the community within 6 months of admission']\n",
    "DC_REQUEST = VENDOR_LIST_FULL[VENDOR_LIST_FULL['Current Discharge Status'] == 'Submit D/C Request to HRA']\n",
    "JUDGE_DENIED_DC = VENDOR_LIST_FULL[VENDOR_LIST_FULL['Current Discharge Status'] == 'Judge denied D/C']\n",
    "NO_SGUARDIAN = VENDOR_LIST_FULL[VENDOR_LIST_FULL['Current Discharge Status'] == 'Successor guardian not yet commissioned']\n",
    "VENDOR_NO_DISCHARGE = VENDOR_LIST_FULL[VENDOR_LIST_FULL['Current Discharge Status'] == 'Vendor not seeking discharge']\n",
    "CLT_RETURN_NYC = VENDOR_LIST_FULL[VENDOR_LIST_FULL['Current Discharge Status'] == 'Clt returned back to NYC']\n",
    "SGUARDIAN_FA = VENDOR_LIST_FULL[VENDOR_LIST_FULL['Current Discharge Status'] == 'Success guardian appointed FA to be submitted']\n",
    "CLT_DISCHARGED = VENDOR_LIST_FULL[VENDOR_LIST_FULL['Current Discharge Status'] == 'Clt discharged']\n",
    "PENDING_COURT_APP = VENDOR_LIST_FULL[VENDOR_LIST_FULL['Current Discharge Status'] == 'Pending Court Approval']"
   ]
  },
  {
   "cell_type": "markdown",
   "metadata": {},
   "source": [
    "Similar to above, there are various variables that each represent the different types of Living/Domicile Status."
   ]
  },
  {
   "cell_type": "code",
   "execution_count": 45,
   "metadata": {},
   "outputs": [],
   "source": [
    "DECEASED = VENDOR_LIST_FULL[VENDOR_LIST_FULL['Living/Domicile Status'] == 'Deceased']\n",
    "ADULTHOME = VENDOR_LIST_FULL[VENDOR_LIST_FULL['Living/Domicile Status'] == 'Adult Home']\n",
    "ASSISTED_LIVING = VENDOR_LIST_FULL[VENDOR_LIST_FULL['Living/Domicile Status'] == 'Assisted Living']\n",
    "SUPPORTIVE_HOUSING = VENDOR_LIST_FULL[VENDOR_LIST_FULL['Living/Domicile Status'] == 'Supporting Housing']\n",
    "HOSPITAL = VENDOR_LIST_FULL[VENDOR_LIST_FULL['Living/Domicile Status'] == 'Hospital']\n",
    "SHELTER = VENDOR_LIST_FULL[VENDOR_LIST_FULL['Living/Domicile Status'] == 'Shelter']\n",
    "NURSING_HOME_PERM = VENDOR_LIST_FULL[VENDOR_LIST_FULL['Living/Domicile Status'] == 'Nursing Home-Perm']\n",
    "NURSING_HOME_TEMP = VENDOR_LIST_FULL[VENDOR_LIST_FULL['Living/Domicile Status'] == 'Nursing Home-Temp']\n",
    "STREET_HOMELESS = VENDOR_LIST_FULL[VENDOR_LIST_FULL['Living/Domicile Status'] == 'Street Homeless']\n",
    "INCARCERATED = VENDOR_LIST_FULL[VENDOR_LIST_FULL['Living/Domicile Status'] == 'Incarcerated']\n",
    "RESIDES_COMMUNITY = VENDOR_LIST_FULL[VENDOR_LIST_FULL['Living/Domicile Status'] == 'Resides in Community']\n",
    "WHEREABOUTS_UNK = VENDOR_LIST_FULL[VENDOR_LIST_FULL['Living/Domicile Status'] == 'Whereabouts unknown']\n",
    "OUT_JURIS = VENDOR_LIST_FULL[VENDOR_LIST_FULL['Living/Domicile Status'] == 'Out Of Jurisdiction']\n",
    "SUBSTANCE_ABUSE = VENDOR_LIST_FULL[VENDOR_LIST_FULL['Living/Domicile Status'] == 'Substance abuse facility']\n",
    "OPWDD_FACILITY = VENDOR_LIST_FULL[VENDOR_LIST_FULL['Living/Domicile Status'] == 'OPWDD facility']\n",
    "CONGREGATE_CARE = VENDOR_LIST_FULL[VENDOR_LIST_FULL['Living/Domicile Status'] == 'Congregate Care Facility']  "
   ]
  },
  {
   "cell_type": "markdown",
   "metadata": {},
   "source": [
    "This final chunk of code uses the function that we made in the beginning to export all of the variables that we made into an excel sheet, and have every entry in a different sheet. This follows the exact format that was mentioned in the beginning. There is a brief comment below every entry that explains what is happening and why it is used. \n",
    "\n",
    "The sheets are in the order that was requested by Gili's department, and covers all of the information that they wanted. Until now, they've been satisfied, and haven't requested more information.\n",
    "\n",
    "Future work will include checking for duplicate values between the record made by this project and records from future months. If there are duplicate values, that means the vendor is not updating their clients as they should."
   ]
  },
  {
   "cell_type": "code",
   "execution_count": null,
   "metadata": {},
   "outputs": [],
   "source": [
    "    #To be updated by Vendor\n",
    "    \n",
    "    append_df_to_excel('/Users/Carlos/Desktop/Vendor_List_Exceptions.xlsx', Missing_Demo, sheet_name = 'Missing_Demo')\n",
    "    #All cases with missing blue category\n",
    "\n",
    "    append_df_to_excel('/Users/Carlos/Desktop/Vendor_List_Exceptions.xlsx', INVALID_SOCIAL, sheet_name = 'Invalid_Social')\n",
    "    #Social less than 9 digits\n",
    "\n",
    "    append_df_to_excel('/Users/Carlos/Desktop/Vendor_List_Exceptions.xlsx', NO_SOCIAL, sheet_name = 'No_Social')\n",
    "    #Missing Social\n",
    "\n",
    "    append_df_to_excel('/Users/Carlos/Desktop/Vendor_List_Exceptions.xlsx', LDS_DECEASED_SUB, sheet_name = 'Decd DC to HRA')\n",
    "    #Cases Living / Domicile = Deceased AND Current Discharge Status. = Submit DC request to HRA\n",
    "\n",
    "    append_df_to_excel('/Users/Carlos/Desktop/Vendor_List_Exceptions.xlsx', LDS_ERROR, sheet_name = 'LDS_ERROR')\n",
    "    #Cases with flawed Living/Domicile Status (NaN, typos, not in proper list)\n",
    "\n",
    "    append_df_to_excel('/Users/Carlos/Desktop/Vendor_List_Exceptions.xlsx', CDS_ERROR, sheet_name = 'CDS_ERROR')\n",
    "    #Cases with flawed Current Discharge Status (I think they're all NaN. dropna() = 0 rows)\n",
    "\n",
    "\n",
    "    append_df_to_excel('/Users/Carlos/Desktop/Vendor_List_Exceptions.xlsx', LDSDateNull, sheet_name = 'Date Since Required')\n",
    "    #Cases where LDS != Residing in Community and Date Since is null\n",
    "    \n",
    "    append_df_to_excel('/Users/Carlos/Desktop/Vendor_List_Exceptions.xlsx', YPetitionNA, sheet_name = 'Y Petition N Date')\n",
    "    #Yes to petition filed, yet has no petition date\n",
    "\n",
    "    append_df_to_excel('/Users/Carlos/Desktop/Vendor_List_Exceptions.xlsx', NPetitionVAL, sheet_name = 'N Petition Y Date')\n",
    "    #No to petition filed, yet has a petition date\n",
    "\n",
    "        \n",
    "    append_df_to_excel('/Users/Carlos/Desktop/Vendor_List_Exceptions.xlsx', YPetitionUrgent, sheet_name = 'Y Petition No DC Info')\n",
    "    #Yes Petition with nothing in columns AB-AE (Hearing Date to Comments for CDS)\n",
    "        \n",
    "    append_df_to_excel('/Users/Carlos/Desktop/Vendor_List_Exceptions.xlsx', CD_Null_Date, sheet_name = 'CDS DC No DC Date')\n",
    "    #Clients discharged without discharge date\n",
    "\n",
    "    append_df_to_excel('/Users/Carlos/Desktop/Vendor_List_Exceptions.xlsx', JCDS_Null, sheet_name = 'Out of Juris No CDS')\n",
    "    #All Cases out of Jurisdiction that don't have a discharge status\n",
    "    \n",
    "    append_df_to_excel('/Users/Carlos/Desktop/Vendor_List_Exceptions.xlsx', LDS180_FOCUS, sheet_name = 'INS 180 to 365 No DC Info')\n",
    "    #cases filtered that have 180-365 status date and have nothing in Z-AE\n",
    "\n",
    "    append_df_to_excel('/Users/Carlos/Desktop/Vendor_List_Exceptions.xlsx', LDS365_FOCUS, sheet_name = 'Ind 365 No DC Info')\n",
    "    #cases filtered that have >=365 status date and have nothing in Z-AE\n",
    "\n",
    "    append_df_to_excel('/Users/Carlos/Desktop/Vendor_List_Exceptions.xlsx', HRA_SUBMIT_HRA, sheet_name = 'HRA App Y CDC Submit HRA')\n",
    "    #YRS HRA Approval AND CDS = Submit DC Request to HRA\n",
    "\n",
    "    append_df_to_excel('/Users/Carlos/Desktop/Vendor_List_Exceptions.xlsx', DENIED_NA, sheet_name = 'CDS JDG and No Comment')\n",
    "    #Judge Denied CDS and Comments are empty\n",
    "    \n",
    "\n",
    "\n",
    "#INTERNAL REVIEW NEEDED\n",
    "    append_df_to_excel('/Users/Carlos/Desktop/Vendor_List_Exceptions.xlsx', VALUE_COUNT, sheet_name = 'Value_Count')\n",
    "    append_df_to_excel('/Users/Carlos/Desktop/Vendor_List_Exceptions.xlsx', LIST_TYPE, sheet_name = 'List Type Count')\n",
    "    \n",
    "    append_df_to_excel('/Users/Carlos/Desktop/Vendor_List_Exceptions.xlsx', MONTH_ERROR, sheet_name = 'Month_Error')\n",
    "    #Cases that have #VALUE! in Month column\n",
    "    append_df_to_excel('/Users/Carlos/Desktop/Vendor_List_Exceptions.xlsx', LDS_DECEASED, sheet_name = 'LDS_DECEASED')\n",
    "    #Cases where LDS == Deceased\n",
    "\n",
    "    append_df_to_excel('/Users/Carlos/Desktop/Vendor_List_Exceptions.xlsx', LDS_removed, sheet_name = 'Inst Clts')\n",
    "    #Living Domicile Status Without Deceased / Homeless / whereabouts / jurisdiction / resides in community\n",
    "\n",
    "    append_df_to_excel('/Users/Carlos/Desktop/Vendor_List_Exceptions.xlsx', LDS180, sheet_name = 'Inst more than 180 days')\n",
    "    #cases filtered that have >180 status date\n",
    "\n",
    "    append_df_to_excel('/Users/Carlos/Desktop/Vendor_List_Exceptions.xlsx', LDS365, sheet_name = 'Inst more than 365 days')\n",
    "    #cases filtered that have >365 status date\n",
    "    \n",
    "    append_df_to_excel('/Users/Carlos/Desktop/Vendor_List_Exceptions.xlsx', NHT_DATE_180, sheet_name = 'NHT more 180 No HRA Appr')\n",
    "    #Nursing Home Temp Date Since is between 180 and 365 and days since HRA approval = NULL\n",
    "    \n",
    "    append_df_to_excel('/Users/Carlos/Desktop/Vendor_List_Exceptions.xlsx', NHT_365_NO_PROGRESS, sheet_name = 'NHT more 365 No HRA DC Info')\n",
    "    #Nursing Home Temp Date Since is greater than 365 and days since HRA approval = NULL AND nothing in columns V-AE\n",
    "    \n",
    "    append_df_to_excel('/Users/Carlos/Desktop/Vendor_List_Exceptions.xlsx', LDS_NO_DISCHARGE, sheet_name = 'LDS Deceased No DC Info')\n",
    "    #Client is deceased and nothing in columns Z-AE\n",
    "    \n",
    "    append_df_to_excel('/Users/Carlos/Desktop/Vendor_List_Exceptions.xlsx', LDS_NoDIS_1YR, sheet_name = 'Date since more 1yr CDC VNSD')\n",
    "    #Anything other than resides in the community and date since is greater than 1 year and CDS = vendor not seeking discharge\n",
    "\n",
    "    append_df_to_excel('/Users/Carlos/Desktop/Vendor_List_Exceptions.xlsx', HRA120, sheet_name = 'HRA Y more 60 No DC Info')\n",
    "    #YES HRA Approval and days since 60 - 120 and nothing columns Z - AC\n",
    "    \n",
    "    append_df_to_excel('/Users/Carlos/Desktop/Vendor_List_Exceptions.xlsx', HRA180, sheet_name = 'HRA Y more 180 No DC Info')\n",
    "    #YES HRA Approval and days since 120 - 180 and nothing columns Z - AC\n",
    "    \n",
    "    append_df_to_excel('/Users/Carlos/Desktop/Vendor_List_Exceptions.xlsx', HRA365, sheet_name = 'HRA Y more 365 No DC Info')\n",
    "    #YES HRA Approval and days since 180 - 365 and nothing columns Z - AC\n",
    "    \n",
    "    append_df_to_excel('/Users/Carlos/Desktop/Vendor_List_Exceptions.xlsx', HRA_DECEASED_NULL, sheet_name = 'HRA_DECEASED_BLANK')\n",
    "    #Cases where HRA Approval is NULL and the client is not deceased.\n",
    "    \n",
    "\n",
    "    #LDS\n",
    "    append_df_to_excel('/Users/Carlos/Desktop/Vendor_List_Exceptions.xlsx', DECEASED, sheet_name = 'DECEASED')\n",
    "    append_df_to_excel('/Users/Carlos/Desktop/Vendor_List_Exceptions.xlsx', ADULTHOME, sheet_name = 'ADULTHOME')\n",
    "    append_df_to_excel('/Users/Carlos/Desktop/Vendor_List_Exceptions.xlsx', ASSISTED_LIVING, sheet_name = 'ASSISTED_LIVING')\n",
    "    append_df_to_excel('/Users/Carlos/Desktop/Vendor_List_Exceptions.xlsx', SUPPORTIVE_HOUSING, sheet_name = 'SUPPORTIVE_HOUSING')\n",
    "    append_df_to_excel('/Users/Carlos/Desktop/Vendor_List_Exceptions.xlsx', HOSPITAL, sheet_name = 'HOSPITAL')\n",
    "    append_df_to_excel('/Users/Carlos/Desktop/Vendor_List_Exceptions.xlsx', SHELTER, sheet_name = 'SHELTER')\n",
    "    append_df_to_excel('/Users/Carlos/Desktop/Vendor_List_Exceptions.xlsx', NURSING_HOME_PERM, sheet_name = 'NURSING_HOME_PERM')\n",
    "    append_df_to_excel('/Users/Carlos/Desktop/Vendor_List_Exceptions.xlsx', NURSING_HOME_TEMP, sheet_name = 'NURSING_HOME_TEMP')\n",
    "    append_df_to_excel('/Users/Carlos/Desktop/Vendor_List_Exceptions.xlsx', STREET_HOMELESS, sheet_name = 'STREET_HOMELESS')\n",
    "    append_df_to_excel('/Users/Carlos/Desktop/Vendor_List_Exceptions.xlsx', INCARCERATED, sheet_name = 'INCARCERATED')\n",
    "    append_df_to_excel('/Users/Carlos/Desktop/Vendor_List_Exceptions.xlsx', RESIDES_COMMUNITY, sheet_name = 'RESIDES_COMMUNITY')\n",
    "    append_df_to_excel('/Users/Carlos/Desktop/Vendor_List_Exceptions.xlsx', WHEREABOUTS_UNK, sheet_name = 'WHEREABOUTS_UNK')\n",
    "    append_df_to_excel('/Users/Carlos/Desktop/Vendor_List_Exceptions.xlsx', OUT_JURIS, sheet_name = 'OUT_JURIS')\n",
    "    append_df_to_excel('/Users/Carlos/Desktop/Vendor_List_Exceptions.xlsx', SUBSTANCE_ABUSE, sheet_name = 'SUBSTANCE_ABUSE')\n",
    "    append_df_to_excel('/Users/Carlos/Desktop/Vendor_List_Exceptions.xlsx', OPWDD_FACILITY, sheet_name = 'OPWDD_FACILITY')\n",
    "    append_df_to_excel('/Users/Carlos/Desktop/Vendor_List_Exceptions.xlsx', CONGREGATE_CARE, sheet_name = 'CONGREGATE_CARE')\n",
    "\n",
    "    #CDS\n",
    "    append_df_to_excel('/Users/Carlos/Desktop/Vendor_List_Exceptions.xlsx', CLT_COMMUNITY, sheet_name = 'CLT_COMMUNITY')\n",
    "    append_df_to_excel('/Users/Carlos/Desktop/Vendor_List_Exceptions.xlsx', CLT_COMMUNITY_6MNTHS, sheet_name = 'CLT_COMMUNITY_6MNTHS')\n",
    "    append_df_to_excel('/Users/Carlos/Desktop/Vendor_List_Exceptions.xlsx', DC_REQUEST, sheet_name = 'DC_REQUEST')\n",
    "    append_df_to_excel('/Users/Carlos/Desktop/Vendor_List_Exceptions.xlsx', JUDGE_DENIED_DC, sheet_name = 'JUDGE_DENIED_DC')\n",
    "    append_df_to_excel('/Users/Carlos/Desktop/Vendor_List_Exceptions.xlsx', NO_SGUARDIAN, sheet_name = 'NO_SGUARDIAN')\n",
    "    append_df_to_excel('/Users/Carlos/Desktop/Vendor_List_Exceptions.xlsx', VENDOR_NO_DISCHARGE, sheet_name = 'VENDOR_NO_DISCHARGE')\n",
    "    append_df_to_excel('/Users/Carlos/Desktop/Vendor_List_Exceptions.xlsx', CLT_RETURN_NYC, sheet_name = 'CLT_RETURN_NYC')\n",
    "    append_df_to_excel('/Users/Carlos/Desktop/Vendor_List_Exceptions.xlsx', SGUARDIAN_FA, sheet_name = 'SGUARDIAN_FA')\n",
    "    append_df_to_excel('/Users/Carlos/Desktop/Vendor_List_Exceptions.xlsx', CLT_DISCHARGED, sheet_name = 'CLT_DISCHARGED')\n",
    "    append_df_to_excel('/Users/Carlos/Desktop/Vendor_List_Exceptions.xlsx', PENDING_COURT_APP, sheet_name = 'PENDING_COURT_APP')"
   ]
  }
 ],
 "metadata": {
  "kernelspec": {
   "display_name": "Python 3",
   "language": "python",
   "name": "python3"
  },
  "language_info": {
   "codemirror_mode": {
    "name": "ipython",
    "version": 3
   },
   "file_extension": ".py",
   "mimetype": "text/x-python",
   "name": "python",
   "nbconvert_exporter": "python",
   "pygments_lexer": "ipython3",
   "version": "3.7.4"
  }
 },
 "nbformat": 4,
 "nbformat_minor": 2
}
